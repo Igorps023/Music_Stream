{
  "nbformat": 4,
  "nbformat_minor": 0,
  "metadata": {
    "colab": {
      "provenance": [],
      "authorship_tag": "ABX9TyPwthBCpnF1FcaM/lZcCUdO",
      "include_colab_link": true
    },
    "kernelspec": {
      "name": "python3",
      "display_name": "Python 3"
    },
    "language_info": {
      "name": "python"
    }
  },
  "cells": [
    {
      "cell_type": "markdown",
      "metadata": {
        "id": "view-in-github",
        "colab_type": "text"
      },
      "source": [
        "<a href=\"https://colab.research.google.com/github/Igorps023/Music_Stream/blob/main/Music_Stream_V2.ipynb\" target=\"_parent\"><img src=\"https://colab.research.google.com/assets/colab-badge.svg\" alt=\"Open In Colab\"/></a>"
      ]
    },
    {
      "cell_type": "code",
      "execution_count": null,
      "metadata": {
        "id": "5n7gYLzwvTTS"
      },
      "outputs": [],
      "source": []
    },
    {
      "cell_type": "markdown",
      "source": [
        "# ETL e Análise Exploratória Streaming de Música"
      ],
      "metadata": {
        "id": "AXmJN28l1w2T"
      }
    },
    {
      "cell_type": "code",
      "source": [],
      "metadata": {
        "id": "-N-Gw1QU13n4"
      },
      "execution_count": null,
      "outputs": []
    },
    {
      "cell_type": "markdown",
      "source": [
        "# Código"
      ],
      "metadata": {
        "id": "cd4b9OsD171u"
      }
    },
    {
      "cell_type": "code",
      "source": [
        "# Desmontar o Google Drive (se já estiver montado)\n",
        "from google.colab import drive\n",
        "drive.flush_and_unmount()\n",
        "\n",
        "# Montar o Google Drive novamente\n",
        "drive.mount('/content/drive')"
      ],
      "metadata": {
        "colab": {
          "base_uri": "https://localhost:8080/"
        },
        "id": "d66nl_ad1-T8",
        "outputId": "ee2cfa8a-821a-4b87-e3cc-4b9b7a9024ae"
      },
      "execution_count": null,
      "outputs": [
        {
          "output_type": "stream",
          "name": "stdout",
          "text": [
            "Mounted at /content/drive\n"
          ]
        }
      ]
    },
    {
      "cell_type": "code",
      "source": [
        "# instalar as dependências\n",
        "!apt-get install openjdk-8-jdk-headless -qq > /dev/null\n",
        "!wget -q https://archive.apache.org/dist/spark/spark-3.3.1//spark-3.3.1-bin-hadoop2.tgz\n",
        "!tar xf spark-3.3.1-bin-hadoop2.tgz\n",
        "!pip install -q findspark"
      ],
      "metadata": {
        "id": "SbfrSb7y1_mL"
      },
      "execution_count": null,
      "outputs": []
    },
    {
      "cell_type": "code",
      "source": [
        "#\n",
        "#!pip install pyspark"
      ],
      "metadata": {
        "id": "gVInauTNA9zN"
      },
      "execution_count": null,
      "outputs": []
    },
    {
      "cell_type": "code",
      "source": [
        "#from pyspark.sql import SparkSession\n",
        "\n",
        "# Criar uma instância do SparkSession\n",
        "#spark = SparkSession.builder.master(\"local\").appName(\"NomeDoApp\").getOrCreate()\n",
        "\n",
        "# Agora você pode utilizar o Spark\n",
        "# ..."
      ],
      "metadata": {
        "id": "OykZ2GTkBTbl"
      },
      "execution_count": null,
      "outputs": []
    },
    {
      "cell_type": "code",
      "source": [
        "# configurar as variáveis de ambiente\n",
        "import os\n",
        "os.environ[\"JAVA_HOME\"] = \"/usr/lib/jvm/java-8-openjdk-amd64\"\n",
        "os.environ[\"SPARK_HOME\"] = \"/content/spark-3.3.1-bin-hadoop2.7\""
      ],
      "metadata": {
        "id": "pLiIGe7O2BeZ"
      },
      "execution_count": null,
      "outputs": []
    },
    {
      "cell_type": "code",
      "source": [
        "#importando biblioteca para reconhecer o pyspark\n",
        "import findspark\n",
        "findspark.init('spark-3.3.1-bin-hadoop2')"
      ],
      "metadata": {
        "id": "K8ni6oIS2B9o"
      },
      "execution_count": null,
      "outputs": []
    },
    {
      "cell_type": "code",
      "source": [
        "#escrevendo um arquivo no nosso Drive para testar o mapeamento\n",
        "with open('/content/drive/My Drive/Colab Notebooks/testando_mount.txt', 'w') as f:\n",
        "    f.write('content')"
      ],
      "metadata": {
        "id": "QFtOlK6-2DFS"
      },
      "execution_count": null,
      "outputs": []
    },
    {
      "cell_type": "code",
      "source": [
        "#Criando nossa primeira Sessão com o SparkSession\n",
        "from pyspark.sql import SparkSession\n",
        "\n",
        "spark = SparkSession \\\n",
        "    .builder \\\n",
        "    .appName(\"Aplicação Pyspark Music_Stream Process_1\") \\\n",
        "    .config('spark.ui.port', '4050') \\\n",
        "    .getOrCreate()\t"
      ],
      "metadata": {
        "id": "kWHc6bKP2Eej"
      },
      "execution_count": null,
      "outputs": []
    },
    {
      "cell_type": "code",
      "source": [
        "spark"
      ],
      "metadata": {
        "id": "i2IiUGca2FhK",
        "colab": {
          "base_uri": "https://localhost:8080/",
          "height": 219
        },
        "outputId": "a9c8bb50-090a-4de1-f6dd-f002cc4a9ae1"
      },
      "execution_count": null,
      "outputs": [
        {
          "output_type": "execute_result",
          "data": {
            "text/plain": [
              "<pyspark.sql.session.SparkSession at 0x7efbec151780>"
            ],
            "text/html": [
              "\n",
              "            <div>\n",
              "                <p><b>SparkSession - in-memory</b></p>\n",
              "                \n",
              "        <div>\n",
              "            <p><b>SparkContext</b></p>\n",
              "\n",
              "            <p><a href=\"http://ff8539d4992a:4050\">Spark UI</a></p>\n",
              "\n",
              "            <dl>\n",
              "              <dt>Version</dt>\n",
              "                <dd><code>v3.3.1</code></dd>\n",
              "              <dt>Master</dt>\n",
              "                <dd><code>local[*]</code></dd>\n",
              "              <dt>AppName</dt>\n",
              "                <dd><code>Aplicação Pyspark Music_Stream Process_1</code></dd>\n",
              "            </dl>\n",
              "        </div>\n",
              "        \n",
              "            </div>\n",
              "        "
            ]
          },
          "metadata": {},
          "execution_count": 58
        }
      ]
    },
    {
      "cell_type": "code",
      "source": [
        "#instalar extensão kaggle\n",
        "!pip install kaggle"
      ],
      "metadata": {
        "id": "DR55FJkA2Gaw",
        "colab": {
          "base_uri": "https://localhost:8080/"
        },
        "outputId": "62261191-4949-427a-d080-03bf871363a3"
      },
      "execution_count": null,
      "outputs": [
        {
          "output_type": "stream",
          "name": "stdout",
          "text": [
            "Looking in indexes: https://pypi.org/simple, https://us-python.pkg.dev/colab-wheels/public/simple/\n",
            "Requirement already satisfied: kaggle in /usr/local/lib/python3.10/dist-packages (1.5.13)\n",
            "Requirement already satisfied: six>=1.10 in /usr/local/lib/python3.10/dist-packages (from kaggle) (1.16.0)\n",
            "Requirement already satisfied: certifi in /usr/local/lib/python3.10/dist-packages (from kaggle) (2022.12.7)\n",
            "Requirement already satisfied: python-dateutil in /usr/local/lib/python3.10/dist-packages (from kaggle) (2.8.2)\n",
            "Requirement already satisfied: requests in /usr/local/lib/python3.10/dist-packages (from kaggle) (2.27.1)\n",
            "Requirement already satisfied: tqdm in /usr/local/lib/python3.10/dist-packages (from kaggle) (4.65.0)\n",
            "Requirement already satisfied: python-slugify in /usr/local/lib/python3.10/dist-packages (from kaggle) (8.0.1)\n",
            "Requirement already satisfied: urllib3 in /usr/local/lib/python3.10/dist-packages (from kaggle) (1.26.15)\n",
            "Requirement already satisfied: text-unidecode>=1.3 in /usr/local/lib/python3.10/dist-packages (from python-slugify->kaggle) (1.3)\n",
            "Requirement already satisfied: charset-normalizer~=2.0.0 in /usr/local/lib/python3.10/dist-packages (from requests->kaggle) (2.0.12)\n",
            "Requirement already satisfied: idna<4,>=2.5 in /usr/local/lib/python3.10/dist-packages (from requests->kaggle) (3.4)\n"
          ]
        }
      ]
    },
    {
      "cell_type": "code",
      "source": [
        "import json \n",
        "import os\n",
        "from pathlib import Path\n",
        "\n",
        "# your api key\n",
        "api_key = {\n",
        "'username':\"igorpereirasilva\" ,\n",
        "'key':\"932cad93df082ec0266d416f7e420cdd\"}\n",
        "\n",
        "# uses pathlib Path\n",
        "kaggle_path = Path('/root/.kaggle')\n",
        "os.makedirs(kaggle_path, exist_ok=True)\n",
        "\n",
        "# opens file and dumps python dict to json object \n",
        "with open (kaggle_path/'kaggle.json', 'w') as handl:\n",
        "    json.dump(api_key,handl)\n",
        "\n",
        "os.chmod(kaggle_path/'kaggle.json', 600)  "
      ],
      "metadata": {
        "id": "B07A6ID12H6u"
      },
      "execution_count": null,
      "outputs": []
    },
    {
      "cell_type": "code",
      "source": [
        "#importar biblioteca kaggle\n",
        "import kaggle"
      ],
      "metadata": {
        "id": "EGKibJTl2Kbd"
      },
      "execution_count": null,
      "outputs": []
    },
    {
      "cell_type": "code",
      "source": [
        "#pathway até o dataset\n",
        "kaggle.api.authenticate()\n",
        "kaggle.api.dataset_download_files('undefinenull/million-song-dataset-spotify-lastfm', path='./data', unzip=True)\n",
        "\n",
        "#URL Dataset\n",
        "#https://www.kaggle.com/datasets/undefinenull/million-song-dataset-spotify-lastfm"
      ],
      "metadata": {
        "id": "H-DLd8cb2K89"
      },
      "execution_count": null,
      "outputs": []
    },
    {
      "cell_type": "markdown",
      "source": [
        "# Leitura Datasets"
      ],
      "metadata": {
        "id": "UdWygQFQOrsw"
      }
    },
    {
      "cell_type": "code",
      "source": [
        "# ler o arquivo JSON baixado do Kaggle\n",
        "music_info = spark.read.csv(\"./data/Music Info.csv\", sep=\",\", header=True)\n",
        "listening_history = spark.read.csv(\"./data/User Listening History.csv\", sep=\",\", header=True)"
      ],
      "metadata": {
        "id": "mNt2jxmI2YY2"
      },
      "execution_count": null,
      "outputs": []
    },
    {
      "cell_type": "markdown",
      "source": [
        "# Type Dataframe"
      ],
      "metadata": {
        "id": "LG1WMy4pOwvt"
      }
    },
    {
      "cell_type": "code",
      "source": [
        "music_info"
      ],
      "metadata": {
        "id": "v-qO74-v2hCP",
        "colab": {
          "base_uri": "https://localhost:8080/"
        },
        "outputId": "b530dace-9085-4443-f580-63785d27a326"
      },
      "execution_count": null,
      "outputs": [
        {
          "output_type": "execute_result",
          "data": {
            "text/plain": [
              "DataFrame[track_id: string, name: string, artist: string, spotify_preview_url: string, spotify_id: string, tags: string, genre: string, year: string, duration_ms: string, danceability: string, energy: string, key: string, loudness: string, mode: string, speechiness: string, acousticness: string, instrumentalness: string, liveness: string, valence: string, tempo: string, time_signature: string]"
            ]
          },
          "metadata": {},
          "execution_count": 64
        }
      ]
    },
    {
      "cell_type": "code",
      "source": [
        "listening_history"
      ],
      "metadata": {
        "id": "tbEgYkcGbClU",
        "colab": {
          "base_uri": "https://localhost:8080/"
        },
        "outputId": "53160c5f-7071-408c-cbf1-767e47a4e6a1"
      },
      "execution_count": null,
      "outputs": [
        {
          "output_type": "execute_result",
          "data": {
            "text/plain": [
              "DataFrame[track_id: string, user_id: string, playcount: string]"
            ]
          },
          "metadata": {},
          "execution_count": 65
        }
      ]
    },
    {
      "cell_type": "markdown",
      "source": [
        "# Numero Linhas e Colunas"
      ],
      "metadata": {
        "id": "gRq4azSDO4ld"
      }
    },
    {
      "cell_type": "code",
      "source": [
        "#numero colunas e linhas\n",
        "num_rows = music_info.count()\n",
        "num_cols = len(music_info.columns)"
      ],
      "metadata": {
        "id": "wC3iG29y3MwZ"
      },
      "execution_count": null,
      "outputs": []
    },
    {
      "cell_type": "code",
      "source": [
        "print('Shape: ({}, {})'.format(num_rows, num_cols))"
      ],
      "metadata": {
        "id": "pEAL9nKD3O1M",
        "colab": {
          "base_uri": "https://localhost:8080/"
        },
        "outputId": "56d28582-d0bc-41ab-b079-22b2caea6009"
      },
      "execution_count": null,
      "outputs": [
        {
          "output_type": "stream",
          "name": "stdout",
          "text": [
            "Shape: (50683, 21)\n"
          ]
        }
      ]
    },
    {
      "cell_type": "markdown",
      "source": [
        "# Descricao Colunas"
      ],
      "metadata": {
        "id": "eUIoxNhrO9s2"
      }
    },
    {
      "cell_type": "code",
      "source": [
        "#colunas\n",
        "music_info.columns"
      ],
      "metadata": {
        "id": "E1A3Ouqs3QKK",
        "colab": {
          "base_uri": "https://localhost:8080/"
        },
        "outputId": "e25322f9-60b8-4bad-b525-ae9975861077"
      },
      "execution_count": null,
      "outputs": [
        {
          "output_type": "execute_result",
          "data": {
            "text/plain": [
              "['track_id',\n",
              " 'name',\n",
              " 'artist',\n",
              " 'spotify_preview_url',\n",
              " 'spotify_id',\n",
              " 'tags',\n",
              " 'genre',\n",
              " 'year',\n",
              " 'duration_ms',\n",
              " 'danceability',\n",
              " 'energy',\n",
              " 'key',\n",
              " 'loudness',\n",
              " 'mode',\n",
              " 'speechiness',\n",
              " 'acousticness',\n",
              " 'instrumentalness',\n",
              " 'liveness',\n",
              " 'valence',\n",
              " 'tempo',\n",
              " 'time_signature']"
            ]
          },
          "metadata": {},
          "execution_count": 68
        }
      ]
    },
    {
      "cell_type": "code",
      "source": [
        "#colunas\n",
        "listening_history.columns"
      ],
      "metadata": {
        "colab": {
          "base_uri": "https://localhost:8080/"
        },
        "id": "s8ZvvqFHPEug",
        "outputId": "8efdd129-62d8-4a8c-8949-f9bc301b23e0"
      },
      "execution_count": null,
      "outputs": [
        {
          "output_type": "execute_result",
          "data": {
            "text/plain": [
              "['track_id', 'user_id', 'playcount']"
            ]
          },
          "metadata": {},
          "execution_count": 69
        }
      ]
    },
    {
      "cell_type": "markdown",
      "source": [
        "# Preview Tabela"
      ],
      "metadata": {
        "id": "1ptG2T6nPH59"
      }
    },
    {
      "cell_type": "code",
      "source": [
        "music_info.show(20, truncate=False)"
      ],
      "metadata": {
        "id": "G4NMZOlw3RH8",
        "colab": {
          "base_uri": "https://localhost:8080/"
        },
        "outputId": "3255f705-9f5d-484d-d4f7-753a74df7d05"
      },
      "execution_count": null,
      "outputs": [
        {
          "output_type": "stream",
          "name": "stdout",
          "text": [
            "+------------------+-----------------+---------------------+-----------------------------------------------------------------------------------------------------------+----------------------+------------------------------------------------------------------------------------------------------+-----+----+-----------+------------+------+---+--------+----+-----------+------------+----------------+--------+-------+-------+--------------+\n",
            "|track_id          |name             |artist               |spotify_preview_url                                                                                        |spotify_id            |tags                                                                                                  |genre|year|duration_ms|danceability|energy|key|loudness|mode|speechiness|acousticness|instrumentalness|liveness|valence|tempo  |time_signature|\n",
            "+------------------+-----------------+---------------------+-----------------------------------------------------------------------------------------------------------+----------------------+------------------------------------------------------------------------------------------------------+-----+----+-----------+------------+------+---+--------+----+-----------+------------+----------------+--------+-------+-------+--------------+\n",
            "|TRIOREW128F424EAF0|Mr. Brightside   |The Killers          |https://p.scdn.co/mp3-preview/4d26180e6961fd46866cd9106936ea55dfcbaa75?cid=774b29d4f13844c495f206cafdad9c86|09ZQ5TmUG8TSL56n0knqrj|rock, alternative, indie, alternative_rock, indie_rock, 00s                                           |null |2004|222200     |0.355       |0.918 |1  |-4.36   |1   |0.0746     |0.00119     |0.0             |0.0971  |0.24   |148.114|4             |\n",
            "|TRRIVDJ128F429B0E8|Wonderwall       |Oasis                |https://p.scdn.co/mp3-preview/d012e536916c927bd6c8ced0dae75ee3b7715983?cid=774b29d4f13844c495f206cafdad9c86|06UfBBDISthj1ZJAtX4xjj|rock, alternative, indie, pop, alternative_rock, british, 90s, love, britpop                          |null |2006|258613     |0.409       |0.892 |2  |-4.373  |1   |0.0336     |0.000807    |0.0             |0.207   |0.651  |174.426|4             |\n",
            "|TROUVHL128F426C441|Come as You Are  |Nirvana              |https://p.scdn.co/mp3-preview/a1c11bb1cb231031eb20e5951a8bfb30503224e9?cid=774b29d4f13844c495f206cafdad9c86|0keNu0t0tqsWtExGM3nT1D|rock, alternative, alternative_rock, 90s, grunge                                                      |RnB  |1991|218920     |0.508       |0.826 |4  |-5.783  |0   |0.04       |0.000175    |0.000459        |0.0878  |0.543  |120.012|4             |\n",
            "|TRUEIND128F93038C4|Take Me Out      |Franz Ferdinand      |https://p.scdn.co/mp3-preview/399c401370438be449c2aebff816ba8c62559871?cid=774b29d4f13844c495f206cafdad9c86|0ancVQ9wEcHVd0RrGICTE4|rock, alternative, indie, alternative_rock, indie_rock, british, 00s, britpop                         |null |2004|237026     |0.279       |0.664 |9  |-8.851  |1   |0.0371     |0.000389    |0.000655        |0.133   |0.49   |104.56 |4             |\n",
            "|TRLNZBD128F935E4D8|Creep            |Radiohead            |https://p.scdn.co/mp3-preview/e7eb60e9466bc3a27299ea8803aadf4fa9cf795c?cid=774b29d4f13844c495f206cafdad9c86|01QoK9DA7VTeTSE3MNzp4I|rock, alternative, indie, alternative_rock, indie_rock, british, 90s, britpop                         |RnB  |2008|238640     |0.515       |0.43  |7  |-9.935  |1   |0.0369     |0.0102      |0.000141        |0.129   |0.104  |91.841 |4             |\n",
            "|TRUMISQ128F9340BEE|Somebody Told Me |The Killers          |https://p.scdn.co/mp3-preview/0d07673cfb46218a49c96eed639933f19b45cf9c?cid=774b29d4f13844c495f206cafdad9c86|0FNmIQ7u45Lhdn6RHhSLix|rock, alternative, indie, pop, alternative_rock, indie_rock                                           |null |2005|198480     |0.508       |0.979 |10 |-4.289  |0   |0.0847     |8.71e-05    |0.000643        |0.0641  |0.704  |138.03 |4             |\n",
            "|TRVCCWR128F9304A30|Viva la Vida     |Coldplay             |https://p.scdn.co/mp3-preview/ab747fed1bfab2ac2c8ef7a260822520f6345113?cid=774b29d4f13844c495f206cafdad9c86|08A1lZeyLMWH58DT6aYjnC|rock, alternative, indie, pop, alternative_rock, british, britpop                                     |null |2013|235384     |0.588       |0.806 |8  |-7.903  |1   |0.105      |0.153       |0.0             |0.0634  |0.52   |137.973|4             |\n",
            "|TRXOGZT128F424AD74|Karma Police     |Radiohead            |https://p.scdn.co/mp3-preview/5a09f5390e2862af1687f3671db3d6f84a813a45?cid=774b29d4f13844c495f206cafdad9c86|01puceOqImrzSfKDAcd1Ia|rock, alternative, indie, alternative_rock, indie_rock, british, 90s, britpop                         |null |1996|264066     |0.36        |0.505 |7  |-9.129  |1   |0.026      |0.0626      |9.22e-05        |0.172   |0.317  |74.807 |4             |\n",
            "|TRMZXEW128F9341FD5|The Scientist    |Coldplay             |https://p.scdn.co/mp3-preview/95cb9df1b056d759920b5e85ad7f9aff0a390671?cid=774b29d4f13844c495f206cafdad9c86|0GSSsT9szp0rJkBrYkzy6s|rock, alternative, indie, pop, alternative_rock, british, piano, love, beautiful, 00s, britpop, mellow|Rock |2007|311014     |0.566       |0.429 |5  |-7.826  |1   |0.0242     |0.715       |1.44e-05        |0.12    |0.173  |146.365|4             |\n",
            "|TRUJIIV12903CA8848|Clocks           |Coldplay             |https://p.scdn.co/mp3-preview/24c7fe858b234e3cb21872cd03ab44b669163fbb?cid=774b29d4f13844c495f206cafdad9c86|0BCPKOYdS2jbQ8iyB56Zns|rock, alternative, indie, pop, alternative_rock, british, chillout, piano, britpop                    |null |2002|307879     |0.577       |0.749 |5  |-7.215  |0   |0.0279     |0.599       |0.0115          |0.183   |0.255  |130.97 |4             |\n",
            "|TRIODZU128E078F3E2|Under the Bridge |Red Hot Chili Peppers|https://p.scdn.co/mp3-preview/90e41778392f27b6f7dd82db4c90916b3727aa6a?cid=774b29d4f13844c495f206cafdad9c86|06zh28PcYIFvNOAz5Wq2Xb|rock, alternative, alternative_rock, 90s, funk                                                        |Pop  |2003|265506     |0.554       |0.49  |4  |-8.046  |1   |0.0457     |0.0168      |0.000534        |0.136   |0.513  |84.275 |4             |\n",
            "|TRURKLR12903CEBD47|Seven Nation Army|The White Stripes    |https://p.scdn.co/mp3-preview/0cf1b44cf203258ea446560c62e891b887262024?cid=774b29d4f13844c495f206cafdad9c86|025zyxycElQVXwZSzrvJQr|rock, alternative, indie, alternative_rock, indie_rock                                                |null |2008|232680     |0.759       |0.465 |4  |-7.602  |0   |0.0806     |0.00662     |0.288           |0.257   |0.305  |124.049|4             |\n",
            "|TRYEZGE128F92D04C8|Feel Good Inc.   |Gorillaz             |https://p.scdn.co/mp3-preview/7388c425022ced92b1caa7f73bcf0cb3080aee47?cid=774b29d4f13844c495f206cafdad9c86|09xrHi86kLkEIzDLZiHNnv|rock, electronic, alternative, indie, pop, alternative_rock, dance, british, hip_hop, trip_hop        |RnB  |2010|223106     |0.809       |0.72  |6  |-7.776  |1   |0.136      |0.0337      |0.00141         |0.826   |0.832  |138.556|4             |\n",
            "|TRUENYK128F4274057|Chop Suey!       |System of a Down     |https://p.scdn.co/mp3-preview/cd2a1f9fd7619bdae4e2e718b11d5bb054a3d677?cid=774b29d4f13844c495f206cafdad9c86|0EIIqshB4doby2sMQpeqGN|rock, alternative, metal, alternative_rock, hard_rock, nu_metal                                       |Metal|2008|210480     |0.42        |0.925 |7  |-4.217  |0   |0.12       |0.000363    |0.002           |0.1     |0.322  |127.422|4             |\n",
            "|TRXNTMB12903CA884A|Fix You          |Coldplay             |https://p.scdn.co/mp3-preview/b1640815319b2df5ddfac27a28f016319a281468?cid=774b29d4f13844c495f206cafdad9c86|0Kk4dfh9Kq7Okg4T58IBVR|rock, alternative, indie, pop, alternative_rock, british, love, beautiful, britpop, mellow            |null |2016|295826     |0.213       |0.416 |3  |-8.683  |1   |0.0336     |0.164       |0.00168         |0.11    |0.129  |138.478|4             |\n",
            "|TRREXPI128E078EE14|Lithium          |Nirvana              |https://p.scdn.co/mp3-preview/e346fce09e0dc8858d279bb42d5bf41bd9e603bb?cid=774b29d4f13844c495f206cafdad9c86|07hCnHx9DhqZg5eN6RvCbd|rock, alternative, alternative_rock, 90s, grunge                                                      |null |1991|257053     |0.678       |0.656 |7  |-6.41   |1   |0.0381     |0.00174     |0.0             |0.0631  |0.485  |123.207|4             |\n",
            "|TRAJBOD128F9303DCD|Song 2           |Blur                 |https://p.scdn.co/mp3-preview/183c0855e94b58dcb267e2b0721d4a3c99260acf?cid=774b29d4f13844c495f206cafdad9c86|0g0VHJLFYFN3yHZImyQhPA|rock, alternative, indie, alternative_rock, indie_rock, british, 90s, britpop                         |null |2012|122080     |0.676       |0.723 |8  |-5.127  |1   |0.131      |0.00227     |0.0199          |0.0897  |0.779  |129.7  |4             |\n",
            "|TRFNTDZ128F426B34D|In the End       |Linkin Park          |https://p.scdn.co/mp3-preview/6ce8bcf317e8c562f348ea22c846846b5b70e8d9?cid=774b29d4f13844c495f206cafdad9c86|138JuTi1U3WIROalXod9FB|rock, alternative, metal, alternative_rock, nu_metal                                                  |null |2000|216933     |0.542       |0.853 |3  |-6.407  |0   |0.0498     |0.0103      |0.0             |0.108   |0.37   |105.256|4             |\n",
            "|TRCSXPV128F425E2F7|Chasing Cars     |Snow Patrol          |https://p.scdn.co/mp3-preview/f6718903c52c507068a15158552eab1f4d8da28f?cid=774b29d4f13844c495f206cafdad9c86|01Jvw9zNg5LM2RF8WNfnLy|rock, alternative, indie, pop, alternative_rock, indie_rock, british, love, beautiful, britpop, mellow|null |2006|265573     |0.558       |0.568 |9  |-5.731  |1   |0.0267     |0.211       |5e-05           |0.104   |0.125  |104.0  |4             |\n",
            "|TRDKPRZ128F92F37EA|Otherside        |Red Hot Chili Peppers|https://p.scdn.co/mp3-preview/fe298962db3331e8523c714490c678be5313809a?cid=774b29d4f13844c495f206cafdad9c86|0lfH1VLbnBywPOmIMit60M|rock, alternative, alternative_rock, 90s, funk                                                        |null |2014|255400     |0.459       |0.795 |0  |-3.265  |1   |0.0575     |0.00316     |0.000202        |0.0751  |0.513  |123.23 |4             |\n",
            "+------------------+-----------------+---------------------+-----------------------------------------------------------------------------------------------------------+----------------------+------------------------------------------------------------------------------------------------------+-----+----+-----------+------------+------+---+--------+----+-----------+------------+----------------+--------+-------+-------+--------------+\n",
            "only showing top 20 rows\n",
            "\n"
          ]
        }
      ]
    },
    {
      "cell_type": "code",
      "source": [
        "test = listening_history.sort(\"user_id\").show(20, truncate=False)"
      ],
      "metadata": {
        "id": "zYsx21zu348d",
        "colab": {
          "base_uri": "https://localhost:8080/"
        },
        "outputId": "345a0313-fe2e-4a11-fffe-ed7c53a34050"
      },
      "execution_count": null,
      "outputs": [
        {
          "output_type": "stream",
          "name": "stdout",
          "text": [
            "+------------------+----------------------------------------+---------+\n",
            "|track_id          |user_id                                 |playcount|\n",
            "+------------------+----------------------------------------+---------+\n",
            "|TRQEBOU128F425D087|00000b722001882066dff9d2da8a775658053ea0|1        |\n",
            "|TRBCDMC128F1452976|00001638d6189236866af9bbf309ae6c2347ffdc|1        |\n",
            "|TRHVDTF128F428D64C|0000175652312d12576d9e6b84f600caa24c4715|1        |\n",
            "|TRTPXAP12903CA1A14|00001cf0dce3fb22b0df0f3a1d9cd21e38385372|2        |\n",
            "|TRZPDFG128F92FDEF5|00001cf0dce3fb22b0df0f3a1d9cd21e38385372|2        |\n",
            "|TRVRIBZ128F426BF71|00001cf0dce3fb22b0df0f3a1d9cd21e38385372|1        |\n",
            "|TRGEIDA128F933B4B8|00001cf0dce3fb22b0df0f3a1d9cd21e38385372|1        |\n",
            "|TRPUGUW128F426BF6F|00001cf0dce3fb22b0df0f3a1d9cd21e38385372|1        |\n",
            "|TREZYWT128F93191B7|00001cf0dce3fb22b0df0f3a1d9cd21e38385372|2        |\n",
            "|TRKABMK128F426BF72|00001cf0dce3fb22b0df0f3a1d9cd21e38385372|2        |\n",
            "|TRIYKXW128F92FDF08|00001cf0dce3fb22b0df0f3a1d9cd21e38385372|2        |\n",
            "|TRIVDZY12903CC7671|0000267bde1b3a70ea75cf2b2d216cb828e3202b|1        |\n",
            "|TRXVQAJ128F9316B65|0000267bde1b3a70ea75cf2b2d216cb828e3202b|1        |\n",
            "|TRORDNM128F427560D|0000267bde1b3a70ea75cf2b2d216cb828e3202b|1        |\n",
            "|TREXNUE128F92FFC12|0000267bde1b3a70ea75cf2b2d216cb828e3202b|1        |\n",
            "|TRODQGV128F425FD7E|0000267bde1b3a70ea75cf2b2d216cb828e3202b|1        |\n",
            "|TRLTISM128F424FEFB|0000267bde1b3a70ea75cf2b2d216cb828e3202b|1        |\n",
            "|TRJGDTG128F421CE22|0000267bde1b3a70ea75cf2b2d216cb828e3202b|1        |\n",
            "|TRPXIWX128F429831F|0000267bde1b3a70ea75cf2b2d216cb828e3202b|1        |\n",
            "|TRSMXVB128F42858BC|0000267bde1b3a70ea75cf2b2d216cb828e3202b|1        |\n",
            "+------------------+----------------------------------------+---------+\n",
            "only showing top 20 rows\n",
            "\n"
          ]
        }
      ]
    },
    {
      "cell_type": "markdown",
      "source": [
        "# Schema"
      ],
      "metadata": {
        "id": "w6BUjZZQPOq9"
      }
    },
    {
      "cell_type": "code",
      "source": [
        "#Schema Tabela\n",
        "#Podemos notar que todos os dados foram armazenados como string, faremos alteracoes futuramente para melhor performance\n",
        "listening_history.printSchema()"
      ],
      "metadata": {
        "colab": {
          "base_uri": "https://localhost:8080/"
        },
        "id": "-rW7ZF6bCq53",
        "outputId": "63779072-b81b-41cb-e440-70466349bae7"
      },
      "execution_count": null,
      "outputs": [
        {
          "output_type": "stream",
          "name": "stdout",
          "text": [
            "root\n",
            " |-- track_id: string (nullable = true)\n",
            " |-- user_id: string (nullable = true)\n",
            " |-- playcount: string (nullable = true)\n",
            "\n"
          ]
        }
      ]
    },
    {
      "cell_type": "code",
      "source": [
        "#Schema Tabela\n",
        "#Podemos notar que todos os dados foram armazenados como string, faremos alteracoes futuramente para melhor performance\n",
        "music_info.printSchema()"
      ],
      "metadata": {
        "colab": {
          "base_uri": "https://localhost:8080/"
        },
        "id": "yvhtJFxkDDqZ",
        "outputId": "6f411ece-0038-41c2-d62a-6cbbffa8c99f"
      },
      "execution_count": null,
      "outputs": [
        {
          "output_type": "stream",
          "name": "stdout",
          "text": [
            "root\n",
            " |-- track_id: string (nullable = true)\n",
            " |-- name: string (nullable = true)\n",
            " |-- artist: string (nullable = true)\n",
            " |-- spotify_preview_url: string (nullable = true)\n",
            " |-- spotify_id: string (nullable = true)\n",
            " |-- tags: string (nullable = true)\n",
            " |-- genre: string (nullable = true)\n",
            " |-- year: string (nullable = true)\n",
            " |-- duration_ms: string (nullable = true)\n",
            " |-- danceability: string (nullable = true)\n",
            " |-- energy: string (nullable = true)\n",
            " |-- key: string (nullable = true)\n",
            " |-- loudness: string (nullable = true)\n",
            " |-- mode: string (nullable = true)\n",
            " |-- speechiness: string (nullable = true)\n",
            " |-- acousticness: string (nullable = true)\n",
            " |-- instrumentalness: string (nullable = true)\n",
            " |-- liveness: string (nullable = true)\n",
            " |-- valence: string (nullable = true)\n",
            " |-- tempo: string (nullable = true)\n",
            " |-- time_signature: string (nullable = true)\n",
            "\n"
          ]
        }
      ]
    },
    {
      "cell_type": "markdown",
      "source": [
        "# Verificando a existência de registros nulos"
      ],
      "metadata": {
        "id": "llr89UjCVvdF"
      }
    },
    {
      "cell_type": "code",
      "source": [
        "def check_nulls(dataframe, name) -> None:\n",
        "    '''\n",
        "    Verifica e exibe a quantidade de valores nulos em cada coluna do dataframe.\n",
        "\n",
        "    :param dataframe: DataFrame\n",
        "        Dataframe a ser analisado.\n",
        "    :param name: str\n",
        "        Nome identificando o dataframe para exibição na saída.\n",
        "    '''\n",
        "    print(f'\\n{name.upper()} { \"-\" * (100 - len(name))}')\n",
        "    for coluna in dataframe.columns:\n",
        "        qty = dataframe.filter(dataframe[coluna].isNull()).count()\n",
        "        if qty >= 1:\n",
        "            print(f'{coluna}: {qty}')"
      ],
      "metadata": {
        "id": "KLe52CyfVzDc"
      },
      "execution_count": null,
      "outputs": []
    },
    {
      "cell_type": "markdown",
      "source": [
        "\n",
        "\n",
        "    from pyspark.sql.functions import col\n",
        "\n",
        "    def check_empty(dataframe, name) -> None:\n",
        "      '''\n",
        "      Verifica e exibe a quantidade de valores nulos em cada coluna do dataframe.\n",
        "\n",
        "      :param dataframe: DataFrame\n",
        "          Dataframe a ser analisado.\n",
        "      :param name: str\n",
        "          Nome identificando o dataframe para exibição na saída.\n",
        "      '''\n",
        "      print(f'\\n{name.upper()} { \"-\" * (100 - len(name))}')\n",
        "      for coluna in dataframe.columns:\n",
        "          qty = dataframe.filter(col(coluna).isNull() | (col(coluna) == \"\")).count()\n",
        "          if qty >= 1:\n",
        "            print(f'{coluna}: {qty}')"
      ],
      "metadata": {
        "id": "3zKAoFAIQbsc"
      }
    },
    {
      "cell_type": "code",
      "source": [
        "#Utilizando a def\n",
        "check_nulls(listening_history, \"listening_history\")\n",
        "check_nulls(music_info,\"music_info\")"
      ],
      "metadata": {
        "colab": {
          "base_uri": "https://localhost:8080/"
        },
        "id": "HFoQ4xTlNUCL",
        "outputId": "12cb9702-932d-4538-aa9f-a589a4cb62b6"
      },
      "execution_count": null,
      "outputs": [
        {
          "output_type": "stream",
          "name": "stdout",
          "text": [
            "\n",
            "LISTENING_HISTORY -----------------------------------------------------------------------------------\n",
            "\n",
            "MUSIC_INFO ------------------------------------------------------------------------------------------\n",
            "tags: 1127\n",
            "genre: 28335\n"
          ]
        }
      ]
    },
    {
      "cell_type": "code",
      "source": [
        "#Podemos verificar que o historico de musicas nao apresenta nenhum valor nulo, por se tratar de uma tabela fato\n",
        "#Verificaremos posteriormente se todos os itens da Fato estao presentes nas tabelas dimensao\n",
        "#Por questao de boas praticas em modelagem de dados"
      ],
      "metadata": {
        "id": "GLA7JxdgNxT3"
      },
      "execution_count": null,
      "outputs": []
    },
    {
      "cell_type": "markdown",
      "source": [
        "# Verificando a existência de linhas duplicadas"
      ],
      "metadata": {
        "id": "5wMmo4DIQxWF"
      }
    },
    {
      "cell_type": "code",
      "source": [
        "def check_duplicates(dataframe, fields) -> None:\n",
        "    '''\n",
        "    Verifica e exibe uma amostra de 5 registros duplicados com base em um ou mais campos especificados.\n",
        "\n",
        "    :param dataframe: DataFrame\n",
        "        Dataframe a ser analisado.\n",
        "    :param fields: str ou list de str\n",
        "        Nome do campo ou lista de campos a serem usados como referência para identificar duplicatas.\n",
        "    '''\n",
        "    duplicate = dataframe.groupBy(fields) \\\n",
        "        .agg(count('*').alias('qty')) \\\n",
        "        .where(col('qty') > 1) \\\n",
        "        .orderBy(desc('qty'))   \n",
        "    duplicate.show(5, truncate=False)"
      ],
      "metadata": {
        "id": "ia68EKAwQ3Tj"
      },
      "execution_count": null,
      "outputs": []
    },
    {
      "cell_type": "code",
      "source": [
        "from pyspark.sql.functions import col, count, desc\n",
        "\n",
        "def check_duplicates(dataframe, fields) -> None:\n",
        "    '''\n",
        "    Verifica e exibe uma amostra de 5 registros duplicados com base em um ou mais campos especificados.\n",
        "\n",
        "    :param dataframe: DataFrame\n",
        "        Dataframe a ser analisado.\n",
        "    :param fields: str ou list de str\n",
        "        Nome do campo ou lista de campos a serem usados como referência para identificar duplicatas.\n",
        "    '''\n",
        "    duplicates = dataframe.groupBy(fields) \\\n",
        "        .agg(count('*').alias('qty')) \\\n",
        "        .where(col('qty') > 1) \\\n",
        "        .orderBy(desc('qty'))\n",
        "    return duplicates   \n",
        "    #duplicates.show(5, truncate=False)"
      ],
      "metadata": {
        "id": "AZh6DUtXRPWF"
      },
      "execution_count": null,
      "outputs": []
    },
    {
      "cell_type": "code",
      "source": [
        "#check_duplicates(music_info, 'spotify_preview_url')\n",
        "#for column in music_info.columns:\n",
        "#    check_duplicates(music_info, column)\n",
        "\n",
        "for column in music_info.columns:\n",
        "    duplicates = check_duplicates(music_info, column)\n",
        "    duplicates.show(20, truncate=False)"
      ],
      "metadata": {
        "colab": {
          "base_uri": "https://localhost:8080/"
        },
        "id": "44sOJM1sQ7vX",
        "outputId": "96ea6496-8a0c-472e-e0e2-b13fa54c63fe"
      },
      "execution_count": null,
      "outputs": [
        {
          "output_type": "stream",
          "name": "stdout",
          "text": [
            "+--------+---+\n",
            "|track_id|qty|\n",
            "+--------+---+\n",
            "+--------+---+\n",
            "\n",
            "+----+---+\n",
            "|name|qty|\n",
            "+----+---+\n",
            "+----+---+\n",
            "\n",
            "+------------------+---+\n",
            "|artist            |qty|\n",
            "+------------------+---+\n",
            "|The Rolling Stones|132|\n",
            "|Radiohead         |111|\n",
            "|Autechre          |105|\n",
            "|Tom Waits         |100|\n",
            "|Bob Dylan         |98 |\n",
            "|The Cure          |94 |\n",
            "|Metallica         |85 |\n",
            "|Johnny Cash       |84 |\n",
            "|Nine Inch Nails   |83 |\n",
            "|Sonic Youth       |81 |\n",
            "|In Flames         |76 |\n",
            "|Elliott Smith     |76 |\n",
            "|Iron Maiden       |76 |\n",
            "|Boards of Canada  |75 |\n",
            "|Mogwai            |75 |\n",
            "|Amorphis          |74 |\n",
            "|Korn              |72 |\n",
            "|Animal Collective |70 |\n",
            "|Beastie Boys      |70 |\n",
            "|Foo Fighters      |70 |\n",
            "+------------------+---+\n",
            "only showing top 20 rows\n",
            "\n",
            "+-----------------------------------------------------------------------------------------------------------+---+\n",
            "|spotify_preview_url                                                                                        |qty|\n",
            "+-----------------------------------------------------------------------------------------------------------+---+\n",
            "|https://p.scdn.co/mp3-preview/8a5e4f8dce6b1a957e235185a4677841fcaafe90?cid=774b29d4f13844c495f206cafdad9c86|2  |\n",
            "|https://p.scdn.co/mp3-preview/5fcdcfe7ef20abd006bba666b4a7dff01dd5ec21?cid=774b29d4f13844c495f206cafdad9c86|2  |\n",
            "|https://p.scdn.co/mp3-preview/9d4b70e65834b7f7f78e42d1cfc070c827ab0951?cid=774b29d4f13844c495f206cafdad9c86|2  |\n",
            "|https://p.scdn.co/mp3-preview/c3b196d1d1278f1886d99fcd9399564e425cf1f6?cid=774b29d4f13844c495f206cafdad9c86|2  |\n",
            "|https://p.scdn.co/mp3-preview/88feb75a6f4317fda9e5cdda10e936b9eafbac46?cid=774b29d4f13844c495f206cafdad9c86|2  |\n",
            "|https://p.scdn.co/mp3-preview/de56b76558bed95b2be8202a03708bafdc322f16?cid=774b29d4f13844c495f206cafdad9c86|2  |\n",
            "|https://p.scdn.co/mp3-preview/b75d2d2b7d880eedde4130b8360dca92c016b1bb?cid=774b29d4f13844c495f206cafdad9c86|2  |\n",
            "|https://p.scdn.co/mp3-preview/b82cb726ce0d98d606eafc10cd37ca8d1a2f7916?cid=774b29d4f13844c495f206cafdad9c86|2  |\n",
            "|https://p.scdn.co/mp3-preview/7b0420fab47dfbf060312207b3f67d8bea8f04ba?cid=774b29d4f13844c495f206cafdad9c86|2  |\n",
            "|https://p.scdn.co/mp3-preview/d575ba7b971d97437e7a2c7eee31676ec7e99bcb?cid=774b29d4f13844c495f206cafdad9c86|2  |\n",
            "|https://p.scdn.co/mp3-preview/c48e80c8e963a396930c0ae8aa4513ed966b875e?cid=774b29d4f13844c495f206cafdad9c86|2  |\n",
            "|https://p.scdn.co/mp3-preview/b99b1f16f63c70752c6c37c8f9f1d414224b67d6?cid=774b29d4f13844c495f206cafdad9c86|2  |\n",
            "|https://p.scdn.co/mp3-preview/fc256eb2d041b8454f2d63346a3ca23e314c599a?cid=774b29d4f13844c495f206cafdad9c86|2  |\n",
            "|https://p.scdn.co/mp3-preview/422e01f05a43397d566ea5f1765d914a7136b47c?cid=774b29d4f13844c495f206cafdad9c86|2  |\n",
            "|https://p.scdn.co/mp3-preview/d0cc957765ac5313b7354f5ad438425f9b08f61a?cid=774b29d4f13844c495f206cafdad9c86|2  |\n",
            "|https://p.scdn.co/mp3-preview/6a6a7db7aca75f89d1676a80b9a8d26f174749e3?cid=774b29d4f13844c495f206cafdad9c86|2  |\n",
            "|https://p.scdn.co/mp3-preview/a419e2253c652e5e74b385ab4b5b92396165d68f?cid=774b29d4f13844c495f206cafdad9c86|2  |\n",
            "|https://p.scdn.co/mp3-preview/8a56933b07d1d49cef5cd9464d9b550c3e1f3527?cid=774b29d4f13844c495f206cafdad9c86|2  |\n",
            "|https://p.scdn.co/mp3-preview/fcf85cd5f29beb41ebcdb4d526faa5c077107497?cid=774b29d4f13844c495f206cafdad9c86|2  |\n",
            "|https://p.scdn.co/mp3-preview/871db5c75a30422c9aa339cce1fd2a4892e10d01?cid=774b29d4f13844c495f206cafdad9c86|2  |\n",
            "+-----------------------------------------------------------------------------------------------------------+---+\n",
            "only showing top 20 rows\n",
            "\n",
            "+----------------------+---+\n",
            "|spotify_id            |qty|\n",
            "+----------------------+---+\n",
            "|1Ntzk4JoxcAsrWi73MoBjr|2  |\n",
            "|22Ty5gK6zbw0hRtGypTuX5|2  |\n",
            "|02VsIBmSkhc7uHNyPViZR3|2  |\n",
            "|0ndKJL8gA4zLl317M7vndn|2  |\n",
            "|0thdzbW0cRKCx12VbBRB6T|2  |\n",
            "|5vYA1mW9g2Coh1HUFUSmlb|2  |\n",
            "|3MUviQJP5DSYI3Li4EbYTQ|2  |\n",
            "|00otCiz9kUb3Vg7LPKNCZG|2  |\n",
            "|09jsAIZF9ThihIzdrw4KAS|2  |\n",
            "+----------------------+---+\n",
            "\n",
            "+--------------------------------+----+\n",
            "|tags                            |qty |\n",
            "+--------------------------------+----+\n",
            "|null                            |1127|\n",
            "|country                         |506 |\n",
            "|reggae                          |454 |\n",
            "|black_metal                     |442 |\n",
            "|rap, hip_hop                    |378 |\n",
            "|drum_and_bass                   |365 |\n",
            "|ska                             |305 |\n",
            "|industrial                      |283 |\n",
            "|grindcore                       |279 |\n",
            "|death_metal, grindcore          |277 |\n",
            "|jazz                            |240 |\n",
            "|punk, punk_rock                 |223 |\n",
            "|death_metal                     |198 |\n",
            "|doom_metal                      |197 |\n",
            "|trance                          |192 |\n",
            "|death_metal, melodic_death_metal|185 |\n",
            "|thrash_metal                    |184 |\n",
            "|new_age                         |176 |\n",
            "|reggae, ska                     |165 |\n",
            "|french                          |143 |\n",
            "+--------------------------------+----+\n",
            "only showing top 20 rows\n",
            "\n",
            "+----------+-----+\n",
            "|genre     |qty  |\n",
            "+----------+-----+\n",
            "|null      |28335|\n",
            "|Rock      |9965 |\n",
            "|Electronic|3710 |\n",
            "|Metal     |2516 |\n",
            "|Pop       |1145 |\n",
            "|Rap       |821  |\n",
            "|Jazz      |793  |\n",
            "|RnB       |696  |\n",
            "|Reggae    |691  |\n",
            "|Country   |607  |\n",
            "|Punk      |383  |\n",
            "|Folk      |355  |\n",
            "|New Age   |237  |\n",
            "|Blues     |189  |\n",
            "|World     |140  |\n",
            "|Latin     |100  |\n",
            "+----------+-----+\n",
            "\n",
            "+----+----+\n",
            "|year|qty |\n",
            "+----+----+\n",
            "|2007|4221|\n",
            "|2008|3948|\n",
            "|2009|3827|\n",
            "|2006|3453|\n",
            "|2005|3086|\n",
            "|2010|2775|\n",
            "|2004|2626|\n",
            "|2003|2290|\n",
            "|2011|2055|\n",
            "|2002|1912|\n",
            "|2012|1817|\n",
            "|2013|1806|\n",
            "|2001|1776|\n",
            "|2014|1584|\n",
            "|2000|1319|\n",
            "|1999|1160|\n",
            "|1998|1040|\n",
            "|1997|995 |\n",
            "|1996|814 |\n",
            "|1995|746 |\n",
            "+----+----+\n",
            "only showing top 20 rows\n",
            "\n",
            "+-----------+---+\n",
            "|duration_ms|qty|\n",
            "+-----------+---+\n",
            "|214666     |21 |\n",
            "|218200     |14 |\n",
            "|240000     |14 |\n",
            "|205800     |13 |\n",
            "|216000     |13 |\n",
            "|218666     |13 |\n",
            "|247040     |12 |\n",
            "|230226     |12 |\n",
            "|200000     |12 |\n",
            "|224866     |12 |\n",
            "|214600     |12 |\n",
            "|160000     |12 |\n",
            "|211133     |12 |\n",
            "|258000     |12 |\n",
            "|269000     |12 |\n",
            "|215400     |11 |\n",
            "|217533     |11 |\n",
            "|185000     |11 |\n",
            "|226133     |11 |\n",
            "|237640     |11 |\n",
            "+-----------+---+\n",
            "only showing top 20 rows\n",
            "\n",
            "+------------+---+\n",
            "|danceability|qty|\n",
            "+------------+---+\n",
            "|0.53        |136|\n",
            "|0.513       |132|\n",
            "|0.514       |130|\n",
            "|0.527       |129|\n",
            "|0.471       |126|\n",
            "|0.502       |126|\n",
            "|0.525       |125|\n",
            "|0.47        |125|\n",
            "|0.481       |125|\n",
            "|0.499       |123|\n",
            "|0.548       |123|\n",
            "|0.521       |122|\n",
            "|0.509       |122|\n",
            "|0.574       |121|\n",
            "|0.503       |121|\n",
            "|0.507       |120|\n",
            "|0.491       |120|\n",
            "|0.447       |119|\n",
            "|0.445       |119|\n",
            "|0.515       |118|\n",
            "+------------+---+\n",
            "only showing top 20 rows\n",
            "\n",
            "+------+---+\n",
            "|energy|qty|\n",
            "+------+---+\n",
            "|0.988 |196|\n",
            "|0.977 |179|\n",
            "|0.979 |177|\n",
            "|0.976 |176|\n",
            "|0.978 |173|\n",
            "|0.994 |167|\n",
            "|0.973 |165|\n",
            "|0.972 |163|\n",
            "|0.948 |162|\n",
            "|0.98  |162|\n",
            "|0.995 |161|\n",
            "|0.982 |159|\n",
            "|0.991 |158|\n",
            "|0.981 |157|\n",
            "|0.96  |157|\n",
            "|0.974 |156|\n",
            "|0.989 |153|\n",
            "|0.993 |151|\n",
            "|0.947 |150|\n",
            "|0.946 |150|\n",
            "+------+---+\n",
            "only showing top 20 rows\n",
            "\n",
            "+---+----+\n",
            "|key|qty |\n",
            "+---+----+\n",
            "|9  |5908|\n",
            "|7  |5871|\n",
            "|2  |5853|\n",
            "|0  |5744|\n",
            "|1  |4520|\n",
            "|4  |4337|\n",
            "|11 |4098|\n",
            "|5  |3652|\n",
            "|6  |3235|\n",
            "|10 |3025|\n",
            "|8  |3021|\n",
            "|3  |1419|\n",
            "+---+----+\n",
            "\n",
            "+--------+---+\n",
            "|loudness|qty|\n",
            "+--------+---+\n",
            "|-5.717  |16 |\n",
            "|-5.631  |16 |\n",
            "|-4.841  |14 |\n",
            "|-5.309  |14 |\n",
            "|-4.218  |14 |\n",
            "|-6.583  |14 |\n",
            "|-4.905  |14 |\n",
            "|-6.981  |14 |\n",
            "|-5.739  |14 |\n",
            "|-7.125  |14 |\n",
            "|-4.897  |14 |\n",
            "|-7.768  |13 |\n",
            "|-7.226  |13 |\n",
            "|-4.538  |13 |\n",
            "|-5.375  |13 |\n",
            "|-5.931  |13 |\n",
            "|-5.427  |13 |\n",
            "|-5.066  |13 |\n",
            "|-4.994  |13 |\n",
            "|-5.055  |13 |\n",
            "+--------+---+\n",
            "only showing top 20 rows\n",
            "\n",
            "+----+-----+\n",
            "|mode|qty  |\n",
            "+----+-----+\n",
            "|1   |31984|\n",
            "|0   |18699|\n",
            "+----+-----+\n",
            "\n",
            "+-----------+---+\n",
            "|speechiness|qty|\n",
            "+-----------+---+\n",
            "|0.0334     |170|\n",
            "|0.0335     |169|\n",
            "|0.0316     |168|\n",
            "|0.0299     |166|\n",
            "|0.0326     |165|\n",
            "|0.0312     |165|\n",
            "|0.0296     |163|\n",
            "|0.0311     |163|\n",
            "|0.0308     |163|\n",
            "|0.0315     |162|\n",
            "|0.0313     |162|\n",
            "|0.0318     |159|\n",
            "|0.0307     |159|\n",
            "|0.033      |159|\n",
            "|0.034      |158|\n",
            "|0.0338     |158|\n",
            "|0.0305     |156|\n",
            "|0.107      |155|\n",
            "|0.0339     |155|\n",
            "|0.0354     |154|\n",
            "+-----------+---+\n",
            "only showing top 20 rows\n",
            "\n",
            "+------------+---+\n",
            "|acousticness|qty|\n",
            "+------------+---+\n",
            "|0.108       |59 |\n",
            "|0.109       |58 |\n",
            "|0.136       |58 |\n",
            "|0.105       |57 |\n",
            "|0.132       |57 |\n",
            "|0.103       |57 |\n",
            "|0.119       |55 |\n",
            "|0.111       |55 |\n",
            "|0.133       |54 |\n",
            "|0.118       |54 |\n",
            "|0.107       |53 |\n",
            "|0.115       |53 |\n",
            "|0.135       |53 |\n",
            "|0.162       |53 |\n",
            "|0.106       |52 |\n",
            "|0.114       |52 |\n",
            "|0.192       |51 |\n",
            "|0.153       |51 |\n",
            "|0.117       |51 |\n",
            "|0.102       |51 |\n",
            "+------------+---+\n",
            "only showing top 20 rows\n",
            "\n",
            "+----------------+----+\n",
            "|instrumentalness|qty |\n",
            "+----------------+----+\n",
            "|0.0             |8040|\n",
            "|0.878           |79  |\n",
            "|0.906           |72  |\n",
            "|0.877           |71  |\n",
            "|0.881           |62  |\n",
            "|0.907           |62  |\n",
            "|0.909           |60  |\n",
            "|0.919           |60  |\n",
            "|0.887           |59  |\n",
            "|0.904           |59  |\n",
            "|0.882           |59  |\n",
            "|0.902           |59  |\n",
            "|0.885           |57  |\n",
            "|0.866           |57  |\n",
            "|0.867           |57  |\n",
            "|0.911           |56  |\n",
            "|0.871           |56  |\n",
            "|0.875           |56  |\n",
            "|0.892           |56  |\n",
            "|0.86            |55  |\n",
            "+----------------+----+\n",
            "only showing top 20 rows\n",
            "\n",
            "+--------+---+\n",
            "|liveness|qty|\n",
            "+--------+---+\n",
            "|0.111   |523|\n",
            "|0.112   |502|\n",
            "|0.108   |490|\n",
            "|0.11    |473|\n",
            "|0.107   |472|\n",
            "|0.109   |467|\n",
            "|0.105   |439|\n",
            "|0.106   |438|\n",
            "|0.104   |428|\n",
            "|0.102   |417|\n",
            "|0.114   |395|\n",
            "|0.101   |395|\n",
            "|0.113   |373|\n",
            "|0.103   |357|\n",
            "|0.115   |341|\n",
            "|0.116   |337|\n",
            "|0.117   |315|\n",
            "|0.118   |312|\n",
            "|0.119   |310|\n",
            "|0.122   |284|\n",
            "+--------+---+\n",
            "only showing top 20 rows\n",
            "\n",
            "+-------+---+\n",
            "|valence|qty|\n",
            "+-------+---+\n",
            "|0.962  |98 |\n",
            "|0.961  |98 |\n",
            "|0.192  |89 |\n",
            "|0.255  |89 |\n",
            "|0.233  |87 |\n",
            "|0.336  |87 |\n",
            "|0.228  |86 |\n",
            "|0.198  |86 |\n",
            "|0.356  |85 |\n",
            "|0.194  |85 |\n",
            "|0.35   |85 |\n",
            "|0.139  |85 |\n",
            "|0.397  |85 |\n",
            "|0.383  |84 |\n",
            "|0.142  |84 |\n",
            "|0.197  |83 |\n",
            "|0.358  |83 |\n",
            "|0.29   |83 |\n",
            "|0.175  |83 |\n",
            "|0.14   |81 |\n",
            "+-------+---+\n",
            "only showing top 20 rows\n",
            "\n",
            "+-------+---+\n",
            "|tempo  |qty|\n",
            "+-------+---+\n",
            "|129.998|20 |\n",
            "|120.012|19 |\n",
            "|129.996|18 |\n",
            "|120.001|17 |\n",
            "|120.009|16 |\n",
            "|130.0  |16 |\n",
            "|130.004|14 |\n",
            "|119.987|14 |\n",
            "|127.991|14 |\n",
            "|119.998|14 |\n",
            "|119.985|14 |\n",
            "|120.015|14 |\n",
            "|99.998 |13 |\n",
            "|119.974|13 |\n",
            "|119.999|13 |\n",
            "|130.018|13 |\n",
            "|139.983|13 |\n",
            "|100.002|13 |\n",
            "|120.02 |13 |\n",
            "|120.013|13 |\n",
            "+-------+---+\n",
            "only showing top 20 rows\n",
            "\n",
            "+--------------+-----+\n",
            "|time_signature|qty  |\n",
            "+--------------+-----+\n",
            "|4             |44989|\n",
            "|3             |4501 |\n",
            "|5             |732  |\n",
            "|1             |451  |\n",
            "|0             |10   |\n",
            "+--------------+-----+\n",
            "\n"
          ]
        }
      ]
    },
    {
      "cell_type": "markdown",
      "source": [
        "# Outra maneira de chegar ao mesmo resultado de colunas com valores duplicados"
      ],
      "metadata": {
        "id": "KpHgZ1RDzFHK"
      }
    },
    {
      "cell_type": "code",
      "source": [
        "#Another way to achieve the same result\n",
        "from pyspark.sql.functions import col, count, desc, row_number\n",
        "from pyspark.sql.window import Window\n",
        "\n",
        "def check_duplicates(dataframe):\n",
        "    '''\n",
        "    Verifica e exibe uma amostra de 5 registros duplicados para cada coluna com base em um DataFrame.\n",
        "\n",
        "    :param dataframe: DataFrame\n",
        "        DataFrame a ser analisado.\n",
        "    '''\n",
        "    columns = dataframe.columns\n",
        "\n",
        "    window_spec = Window.partitionBy().orderBy(desc('qty'))\n",
        "\n",
        "    for column in columns:\n",
        "        duplicates = dataframe.groupBy(column) \\\n",
        "            .agg(count('*').alias('qty')) \\\n",
        "            .where(col('qty') > 1) \\\n",
        "            .orderBy(desc('qty'))\n",
        "\n",
        "        duplicates = duplicates.withColumn('row_number', row_number().over(window_spec))\n",
        "        duplicates = duplicates.filter(col('row_number') <= 5)\n",
        "\n",
        "        print(f\"Column: {column}\")\n",
        "        duplicates.show(truncate=False)\n",
        "        print('\\n')\n",
        "\n",
        "# Usage example:\n",
        "check_duplicates(music_info)"
      ],
      "metadata": {
        "colab": {
          "base_uri": "https://localhost:8080/"
        },
        "id": "F34OOGiJxAPk",
        "outputId": "a74a8149-e887-4ef6-bdff-41a3d6c2a48d"
      },
      "execution_count": null,
      "outputs": [
        {
          "output_type": "stream",
          "name": "stdout",
          "text": [
            "Column: track_id\n",
            "+--------+---+----------+\n",
            "|track_id|qty|row_number|\n",
            "+--------+---+----------+\n",
            "+--------+---+----------+\n",
            "\n",
            "\n",
            "\n",
            "Column: name\n",
            "+----+---+----------+\n",
            "|name|qty|row_number|\n",
            "+----+---+----------+\n",
            "+----+---+----------+\n",
            "\n",
            "\n",
            "\n",
            "Column: artist\n",
            "+------------------+---+----------+\n",
            "|artist            |qty|row_number|\n",
            "+------------------+---+----------+\n",
            "|The Rolling Stones|132|1         |\n",
            "|Radiohead         |111|2         |\n",
            "|Autechre          |105|3         |\n",
            "|Tom Waits         |100|4         |\n",
            "|Bob Dylan         |98 |5         |\n",
            "+------------------+---+----------+\n",
            "\n",
            "\n",
            "\n",
            "Column: spotify_preview_url\n",
            "+-----------------------------------------------------------------------------------------------------------+---+----------+\n",
            "|spotify_preview_url                                                                                        |qty|row_number|\n",
            "+-----------------------------------------------------------------------------------------------------------+---+----------+\n",
            "|https://p.scdn.co/mp3-preview/8a5e4f8dce6b1a957e235185a4677841fcaafe90?cid=774b29d4f13844c495f206cafdad9c86|2  |1         |\n",
            "|https://p.scdn.co/mp3-preview/5fcdcfe7ef20abd006bba666b4a7dff01dd5ec21?cid=774b29d4f13844c495f206cafdad9c86|2  |2         |\n",
            "|https://p.scdn.co/mp3-preview/9d4b70e65834b7f7f78e42d1cfc070c827ab0951?cid=774b29d4f13844c495f206cafdad9c86|2  |3         |\n",
            "|https://p.scdn.co/mp3-preview/c3b196d1d1278f1886d99fcd9399564e425cf1f6?cid=774b29d4f13844c495f206cafdad9c86|2  |4         |\n",
            "|https://p.scdn.co/mp3-preview/88feb75a6f4317fda9e5cdda10e936b9eafbac46?cid=774b29d4f13844c495f206cafdad9c86|2  |5         |\n",
            "+-----------------------------------------------------------------------------------------------------------+---+----------+\n",
            "\n",
            "\n",
            "\n",
            "Column: spotify_id\n",
            "+----------------------+---+----------+\n",
            "|spotify_id            |qty|row_number|\n",
            "+----------------------+---+----------+\n",
            "|1Ntzk4JoxcAsrWi73MoBjr|2  |1         |\n",
            "|22Ty5gK6zbw0hRtGypTuX5|2  |2         |\n",
            "|02VsIBmSkhc7uHNyPViZR3|2  |3         |\n",
            "|0ndKJL8gA4zLl317M7vndn|2  |4         |\n",
            "|0thdzbW0cRKCx12VbBRB6T|2  |5         |\n",
            "+----------------------+---+----------+\n",
            "\n",
            "\n",
            "\n",
            "Column: tags\n",
            "+------------+----+----------+\n",
            "|tags        |qty |row_number|\n",
            "+------------+----+----------+\n",
            "|null        |1127|1         |\n",
            "|country     |506 |2         |\n",
            "|reggae      |454 |3         |\n",
            "|black_metal |442 |4         |\n",
            "|rap, hip_hop|378 |5         |\n",
            "+------------+----+----------+\n",
            "\n",
            "\n",
            "\n",
            "Column: genre\n",
            "+----------+-----+----------+\n",
            "|genre     |qty  |row_number|\n",
            "+----------+-----+----------+\n",
            "|null      |28335|1         |\n",
            "|Rock      |9965 |2         |\n",
            "|Electronic|3710 |3         |\n",
            "|Metal     |2516 |4         |\n",
            "|Pop       |1145 |5         |\n",
            "+----------+-----+----------+\n",
            "\n",
            "\n",
            "\n",
            "Column: year\n",
            "+----+----+----------+\n",
            "|year|qty |row_number|\n",
            "+----+----+----------+\n",
            "|2007|4221|1         |\n",
            "|2008|3948|2         |\n",
            "|2009|3827|3         |\n",
            "|2006|3453|4         |\n",
            "|2005|3086|5         |\n",
            "+----+----+----------+\n",
            "\n",
            "\n",
            "\n",
            "Column: duration_ms\n",
            "+-----------+---+----------+\n",
            "|duration_ms|qty|row_number|\n",
            "+-----------+---+----------+\n",
            "|214666     |21 |1         |\n",
            "|240000     |14 |2         |\n",
            "|218200     |14 |3         |\n",
            "|205800     |13 |4         |\n",
            "|218666     |13 |5         |\n",
            "+-----------+---+----------+\n",
            "\n",
            "\n",
            "\n",
            "Column: danceability\n",
            "+------------+---+----------+\n",
            "|danceability|qty|row_number|\n",
            "+------------+---+----------+\n",
            "|0.53        |136|1         |\n",
            "|0.513       |132|2         |\n",
            "|0.514       |130|3         |\n",
            "|0.527       |129|4         |\n",
            "|0.471       |126|5         |\n",
            "+------------+---+----------+\n",
            "\n",
            "\n",
            "\n",
            "Column: energy\n",
            "+------+---+----------+\n",
            "|energy|qty|row_number|\n",
            "+------+---+----------+\n",
            "|0.988 |196|1         |\n",
            "|0.977 |179|2         |\n",
            "|0.979 |177|3         |\n",
            "|0.976 |176|4         |\n",
            "|0.978 |173|5         |\n",
            "+------+---+----------+\n",
            "\n",
            "\n",
            "\n",
            "Column: key\n",
            "+---+----+----------+\n",
            "|key|qty |row_number|\n",
            "+---+----+----------+\n",
            "|9  |5908|1         |\n",
            "|7  |5871|2         |\n",
            "|2  |5853|3         |\n",
            "|0  |5744|4         |\n",
            "|1  |4520|5         |\n",
            "+---+----+----------+\n",
            "\n",
            "\n",
            "\n",
            "Column: loudness\n",
            "+--------+---+----------+\n",
            "|loudness|qty|row_number|\n",
            "+--------+---+----------+\n",
            "|-5.717  |16 |1         |\n",
            "|-5.631  |16 |2         |\n",
            "|-4.841  |14 |3         |\n",
            "|-5.309  |14 |4         |\n",
            "|-6.583  |14 |5         |\n",
            "+--------+---+----------+\n",
            "\n",
            "\n",
            "\n",
            "Column: mode\n",
            "+----+-----+----------+\n",
            "|mode|qty  |row_number|\n",
            "+----+-----+----------+\n",
            "|1   |31984|1         |\n",
            "|0   |18699|2         |\n",
            "+----+-----+----------+\n",
            "\n",
            "\n",
            "\n",
            "Column: speechiness\n",
            "+-----------+---+----------+\n",
            "|speechiness|qty|row_number|\n",
            "+-----------+---+----------+\n",
            "|0.0334     |170|1         |\n",
            "|0.0335     |169|2         |\n",
            "|0.0316     |168|3         |\n",
            "|0.0299     |166|4         |\n",
            "|0.0326     |165|5         |\n",
            "+-----------+---+----------+\n",
            "\n",
            "\n",
            "\n",
            "Column: acousticness\n",
            "+------------+---+----------+\n",
            "|acousticness|qty|row_number|\n",
            "+------------+---+----------+\n",
            "|0.108       |59 |1         |\n",
            "|0.136       |58 |2         |\n",
            "|0.109       |58 |3         |\n",
            "|0.105       |57 |4         |\n",
            "|0.103       |57 |5         |\n",
            "+------------+---+----------+\n",
            "\n",
            "\n",
            "\n",
            "Column: instrumentalness\n",
            "+----------------+----+----------+\n",
            "|instrumentalness|qty |row_number|\n",
            "+----------------+----+----------+\n",
            "|0.0             |8040|1         |\n",
            "|0.878           |79  |2         |\n",
            "|0.906           |72  |3         |\n",
            "|0.877           |71  |4         |\n",
            "|0.881           |62  |5         |\n",
            "+----------------+----+----------+\n",
            "\n",
            "\n",
            "\n",
            "Column: liveness\n",
            "+--------+---+----------+\n",
            "|liveness|qty|row_number|\n",
            "+--------+---+----------+\n",
            "|0.111   |523|1         |\n",
            "|0.112   |502|2         |\n",
            "|0.108   |490|3         |\n",
            "|0.11    |473|4         |\n",
            "|0.107   |472|5         |\n",
            "+--------+---+----------+\n",
            "\n",
            "\n",
            "\n",
            "Column: valence\n",
            "+-------+---+----------+\n",
            "|valence|qty|row_number|\n",
            "+-------+---+----------+\n",
            "|0.962  |98 |1         |\n",
            "|0.961  |98 |2         |\n",
            "|0.192  |89 |3         |\n",
            "|0.255  |89 |4         |\n",
            "|0.233  |87 |5         |\n",
            "+-------+---+----------+\n",
            "\n",
            "\n",
            "\n",
            "Column: tempo\n",
            "+-------+---+----------+\n",
            "|tempo  |qty|row_number|\n",
            "+-------+---+----------+\n",
            "|129.998|20 |1         |\n",
            "|120.012|19 |2         |\n",
            "|129.996|18 |3         |\n",
            "|120.001|17 |4         |\n",
            "|120.009|16 |5         |\n",
            "+-------+---+----------+\n",
            "\n",
            "\n",
            "\n",
            "Column: time_signature\n",
            "+--------------+-----+----------+\n",
            "|time_signature|qty  |row_number|\n",
            "+--------------+-----+----------+\n",
            "|4             |44989|1         |\n",
            "|3             |4501 |2         |\n",
            "|5             |732  |3         |\n",
            "|1             |451  |4         |\n",
            "|0             |10   |5         |\n",
            "+--------------+-----+----------+\n",
            "\n",
            "\n",
            "\n"
          ]
        }
      ]
    },
    {
      "cell_type": "markdown",
      "source": [
        "# Vamos verificar o motivo de algumas linhas estarem duplicadas na coluna 'spotify_id'\n"
      ],
      "metadata": {
        "id": "uW_az2Fq6qmz"
      }
    },
    {
      "cell_type": "code",
      "source": [
        "# Exemplo\n",
        "music_info_filtro = music_info.filter(\"spotify_id = '1Ntzk4JoxcAsrWi73MoBjr'\")"
      ],
      "metadata": {
        "id": "SC0j5v-261ZS"
      },
      "execution_count": null,
      "outputs": []
    },
    {
      "cell_type": "code",
      "source": [
        "# Note: O nome da musica na coluna 'name' foi digitado incorretamente\n",
        "music_info_filtro.show()"
      ],
      "metadata": {
        "colab": {
          "base_uri": "https://localhost:8080/"
        },
        "id": "oMCFeswd64hA",
        "outputId": "b14d08c7-4ae6-499e-91de-e19cf6b854aa"
      },
      "execution_count": null,
      "outputs": [
        {
          "output_type": "stream",
          "name": "stdout",
          "text": [
            "+------------------+---------+-------------------+--------------------+--------------------+--------------------+-----+----+-----------+------------+------+---+--------+----+-----------+------------+----------------+--------+-------+------+--------------+\n",
            "|          track_id|     name|             artist| spotify_preview_url|          spotify_id|                tags|genre|year|duration_ms|danceability|energy|key|loudness|mode|speechiness|acousticness|instrumentalness|liveness|valence| tempo|time_signature|\n",
            "+------------------+---------+-------------------+--------------------+--------------------+--------------------+-----+----+-----------+------------+------+---+--------+----+-----------+------------+----------------+--------+-------+------+--------------+\n",
            "|TRXUYQW128F42370DB|hHallmark|Broken Social Scene|https://p.scdn.co...|1Ntzk4JoxcAsrWi73...|alternative, indi...| Rock|2004|     233706|       0.523| 0.583|  0| -10.694|   1|     0.0434|      0.0879|           0.109|   0.144|  0.172|119.98|             3|\n",
            "|TRCUHWL128F4249F1A| Hallmark|Broken Social Scene|https://p.scdn.co...|1Ntzk4JoxcAsrWi73...|indie, alternativ...| null|2004|     233706|       0.523| 0.583|  0| -10.694|   1|     0.0434|      0.0879|           0.109|   0.144|  0.172|119.98|             3|\n",
            "+------------------+---------+-------------------+--------------------+--------------------+--------------------+-----+----+-----------+------------+------+---+--------+----+-----------+------------+----------------+--------+-------+------+--------------+\n",
            "\n"
          ]
        }
      ]
    },
    {
      "cell_type": "markdown",
      "source": [
        "# Verificar o total de linhas com duplicacao da coluna 'spotify_id'"
      ],
      "metadata": {
        "id": "z_n7X8kN7MIy"
      }
    },
    {
      "cell_type": "code",
      "source": [
        "from pyspark.sql.functions import count\n",
        "\n",
        "# Group the DataFrame by 'spotify_id' and count the occurrences\n",
        "duplicate_counts = music_info.groupBy('spotify_id').agg(count('*').alias('count'))\n",
        "\n",
        "# Filter the DataFrame to keep only rows where count > 1\n",
        "duplicate_rows = music_info.join(duplicate_counts, on='spotify_id').filter('count > 1')\n",
        "\n",
        "# Show the duplicate rows DataFrame\n",
        "duplicate_rows.sort('name').show(20, truncate=False)"
      ],
      "metadata": {
        "colab": {
          "base_uri": "https://localhost:8080/"
        },
        "id": "ah7yO4pD7FQ3",
        "outputId": "e61d347b-d883-4830-9415-209c88816058"
      },
      "execution_count": null,
      "outputs": [
        {
          "output_type": "stream",
          "name": "stdout",
          "text": [
            "+----------------------+------------------+--------------------------+-------------------+-----------------------------------------------------------------------------------------------------------+-------------------------------------------------------------------------------------------------------------------------------------------------------------+-----+----+-----------+------------+------+---+--------+----+-----------+------------+----------------+--------+-------+-------+--------------+-----+\n",
            "|spotify_id            |track_id          |name                      |artist             |spotify_preview_url                                                                                        |tags                                                                                                                                                         |genre|year|duration_ms|danceability|energy|key|loudness|mode|speechiness|acousticness|instrumentalness|liveness|valence|tempo  |time_signature|count|\n",
            "+----------------------+------------------+--------------------------+-------------------+-----------------------------------------------------------------------------------------------------------+-------------------------------------------------------------------------------------------------------------------------------------------------------------+-----+----+-----------+------------+------+---+--------+----+-----------+------------+----------------+--------+-------+-------+--------------+-----+\n",
            "|5vYA1mW9g2Coh1HUFUSmlb|TRGGALK12903CB68E5|3 AM                      |Matchbox Twenty    |https://p.scdn.co/mp3-preview/cb68c9ae8925bb3fc45544e5f21de17df18b957d?cid=774b29d4f13844c495f206cafdad9c86|rock, alternative, pop, alternative_rock, 90s, male_vocalists                                                                                                |null |1996|225946     |0.521       |0.673 |8  |-8.685  |1   |0.0284     |0.00573     |0.0             |0.12    |0.543  |108.031|4             |2    |\n",
            "|5vYA1mW9g2Coh1HUFUSmlb|TRLOXMF128F934BF04|3AM                       |Matchbox Twenty    |https://p.scdn.co/mp3-preview/cb68c9ae8925bb3fc45544e5f21de17df18b957d?cid=774b29d4f13844c495f206cafdad9c86|rock, alternative, 90s, piano, american, pop_rock                                                                                                            |null |1996|225946     |0.521       |0.673 |8  |-8.685  |1   |0.0284     |0.00573     |0.0             |0.12    |0.543  |108.031|4             |2    |\n",
            "|00otCiz9kUb3Vg7LPKNCZG|TRJNHPN128F92EF139|Adagio For Strings        |Samuel Barber      |https://p.scdn.co/mp3-preview/fd1b6adbed0cbdd3dce0eb4e39146a0857afec53?cid=774b29d4f13844c495f206cafdad9c86|instrumental, classical, soundtrack, beautiful                                                                                                               |null |2014|431412     |0.14        |0.0947|10 |-18.599 |0   |0.0458     |0.978       |0.478           |0.0735  |0.0365 |84.56  |4             |2    |\n",
            "|00otCiz9kUb3Vg7LPKNCZG|TRLSRQD128F426CFF8|Adagio for Strings, Op. 11|Samuel Barber      |https://p.scdn.co/mp3-preview/fd1b6adbed0cbdd3dce0eb4e39146a0857afec53?cid=774b29d4f13844c495f206cafdad9c86|classical                                                                                                                                                    |null |2014|431412     |0.14        |0.0947|10 |-18.599 |0   |0.0458     |0.978       |0.478           |0.0735  |0.0365 |84.56  |4             |2    |\n",
            "|22Ty5gK6zbw0hRtGypTuX5|TRVENST12903D13BBB|Do You Love Me Now        |The Breeders       |https://p.scdn.co/mp3-preview/6a6a7db7aca75f89d1676a80b9a8d26f174749e3?cid=774b29d4f13844c495f206cafdad9c86|rock, alternative, indie, female_vocalists, alternative_rock, 90s                                                                                            |null |1993|181800     |0.486       |0.233 |2  |-11.535 |1   |0.0365     |0.0319      |0.107           |0.102   |0.32   |134.187|4             |2    |\n",
            "|22Ty5gK6zbw0hRtGypTuX5|TRHNAWF128F423EAE4|Do You Love Me Now?       |The Breeders       |https://p.scdn.co/mp3-preview/6a6a7db7aca75f89d1676a80b9a8d26f174749e3?cid=774b29d4f13844c495f206cafdad9c86|rock, alternative, indie, female_vocalists, alternative_rock, 90s, new_wave, love, grunge                                                                    |Rock |1993|181800     |0.486       |0.233 |2  |-11.535 |1   |0.0365     |0.0319      |0.107           |0.102   |0.32   |134.187|4             |2    |\n",
            "|3MUviQJP5DSYI3Li4EbYTQ|TRRLAHF12903CAFEA1|Greatest Hit              |Annie              |https://p.scdn.co/mp3-preview/82e186b1ddf2b2a51c244effb7691e00bef9c1f2?cid=774b29d4f13844c495f206cafdad9c86|electronic, pop, dance, house                                                                                                                                |null |2004|220293     |0.786       |0.854 |10 |-3.249  |0   |0.138      |0.00261     |0.000171        |0.155   |0.547  |127.128|4             |2    |\n",
            "|1Ntzk4JoxcAsrWi73MoBjr|TRCUHWL128F4249F1A|Hallmark                  |Broken Social Scene|https://p.scdn.co/mp3-preview/68604cdb33249a23ac2e8a5d82cda296e7524ccb?cid=774b29d4f13844c495f206cafdad9c86|indie, alternative_rock, instrumental, post_rock                                                                                                             |null |2004|233706     |0.523       |0.583 |0  |-10.694 |1   |0.0434     |0.0879      |0.109           |0.144   |0.172  |119.98 |3             |2    |\n",
            "|02VsIBmSkhc7uHNyPViZR3|TRXHJQY128F42B5094|How Do U Want It          |2Pac               |https://p.scdn.co/mp3-preview/59f243514e63d634d0513e28f159f201ff3f0984?cid=774b29d4f13844c495f206cafdad9c86|rap, hip_hop, american                                                                                                                                       |Rap  |2011|289000     |0.832       |0.785 |8  |-2.859  |1   |0.093      |0.111       |6.86e-06        |0.0623  |0.812  |92.468 |4             |2    |\n",
            "|02VsIBmSkhc7uHNyPViZR3|TRLOZQZ128F92E8A3F|How Do You Want It        |2Pac               |https://p.scdn.co/mp3-preview/59f243514e63d634d0513e28f159f201ff3f0984?cid=774b29d4f13844c495f206cafdad9c86|rap, hip_hop                                                                                                                                                 |null |2011|289000     |0.832       |0.785 |8  |-2.859  |1   |0.093      |0.111       |6.86e-06        |0.0623  |0.812  |92.468 |4             |2    |\n",
            "|09jsAIZF9ThihIzdrw4KAS|TRZBNQU128F148C04F|Je Pense A Toi            |Amadou & Mariam    |https://p.scdn.co/mp3-preview/adcdf1077f16f2c71c5c7a73ee4c99db207f8602?cid=774b29d4f13844c495f206cafdad9c86|null                                                                                                                                                         |null |2005|316880     |0.68        |0.399 |11 |-11.585 |0   |0.0279     |0.749       |0.00161         |0.158   |0.828  |106.349|4             |2    |\n",
            "|09jsAIZF9ThihIzdrw4KAS|TRGCZFO128F92EE221|Je pense à toi            |Amadou & Mariam    |https://p.scdn.co/mp3-preview/adcdf1077f16f2c71c5c7a73ee4c99db207f8602?cid=774b29d4f13844c495f206cafdad9c86|alternative, beautiful, french                                                                                                                               |null |2005|316880     |0.68        |0.399 |11 |-11.585 |0   |0.0279     |0.749       |0.00161         |0.158   |0.828  |106.349|4             |2    |\n",
            "|3MUviQJP5DSYI3Li4EbYTQ|TRCEFVZ128F4283203|The Greatest Hit          |Annie              |https://p.scdn.co/mp3-preview/82e186b1ddf2b2a51c244effb7691e00bef9c1f2?cid=774b29d4f13844c495f206cafdad9c86|electronic, pop, female_vocalists, dance, electro                                                                                                            |null |2004|220293     |0.786       |0.854 |10 |-3.249  |0   |0.138      |0.00261     |0.000171        |0.155   |0.547  |127.128|4             |2    |\n",
            "|0thdzbW0cRKCx12VbBRB6T|TRRZUGN128F42A1EEE|There There               |Radiohead          |https://p.scdn.co/mp3-preview/9e96ffdf29fceec324b97d331915f2390536ad7a?cid=774b29d4f13844c495f206cafdad9c86|rock, electronic, alternative, indie, alternative_rock, experimental, indie_rock, british, 00s, britpop                                                      |Rock |2008|323600     |0.614       |0.677 |9  |-8.317  |0   |0.0323     |0.0193      |0.518           |0.108   |0.717  |126.477|4             |2    |\n",
            "|0thdzbW0cRKCx12VbBRB6T|TRXFHCL128F92E0989|There, There              |Radiohead          |https://p.scdn.co/mp3-preview/9e96ffdf29fceec324b97d331915f2390536ad7a?cid=774b29d4f13844c495f206cafdad9c86|rock, electronic, alternative, indie, alternative_rock, classic_rock, experimental, indie_rock, progressive_rock, british, downtempo, male_vocalists, britpop|null |2008|323600     |0.614       |0.677 |9  |-8.317  |0   |0.0323     |0.0193      |0.518           |0.108   |0.717  |126.477|4             |2    |\n",
            "|0ndKJL8gA4zLl317M7vndn|TRJQFIT128E0781CED|Too Much Too Young        |The Specials       |https://p.scdn.co/mp3-preview/fc256eb2d041b8454f2d63346a3ca23e314c599a?cid=774b29d4f13844c495f206cafdad9c86|punk, 80s, new_wave, reggae, ska                                                                                                                             |null |2012|116160     |0.597       |0.839 |2  |-9.052  |1   |0.0471     |0.447       |0.000134        |0.31    |0.965  |156.058|4             |2    |\n",
            "|0ndKJL8gA4zLl317M7vndn|TRDTUTO128F422F138|Too Much Too Young (Live) |The Specials       |https://p.scdn.co/mp3-preview/fc256eb2d041b8454f2d63346a3ca23e314c599a?cid=774b29d4f13844c495f206cafdad9c86|ska                                                                                                                                                          |null |2012|116160     |0.597       |0.839 |2  |-9.052  |1   |0.0471     |0.447       |0.000134        |0.31    |0.965  |156.058|4             |2    |\n",
            "|1Ntzk4JoxcAsrWi73MoBjr|TRXUYQW128F42370DB|hHallmark                 |Broken Social Scene|https://p.scdn.co/mp3-preview/68604cdb33249a23ac2e8a5d82cda296e7524ccb?cid=774b29d4f13844c495f206cafdad9c86|alternative, indie, ambient, soundtrack, psychedelic, post_rock                                                                                              |Rock |2004|233706     |0.523       |0.583 |0  |-10.694 |1   |0.0434     |0.0879      |0.109           |0.144   |0.172  |119.98 |3             |2    |\n",
            "+----------------------+------------------+--------------------------+-------------------+-----------------------------------------------------------------------------------------------------------+-------------------------------------------------------------------------------------------------------------------------------------------------------------+-----+----+-----------+------------+------+---+--------+----+-----------+------------+----------------+--------+-------+-------+--------------+-----+\n",
            "\n"
          ]
        }
      ]
    },
    {
      "cell_type": "markdown",
      "source": [
        "# Para este projeto, mantive somente a primeira ocorrencia do 'spotify_id' por conta de representar um \"erro\" de digitacao/forma alternativa de nome para a mesma musica"
      ],
      "metadata": {
        "id": "iFsECO2TXcvO"
      }
    },
    {
      "cell_type": "code",
      "source": [
        "music_info_unique = music_info.dropDuplicates(subset=['spotify_id'])"
      ],
      "metadata": {
        "id": "lgwek-vr7UXF"
      },
      "execution_count": null,
      "outputs": []
    },
    {
      "cell_type": "code",
      "source": [
        "music_info_unique.count()"
      ],
      "metadata": {
        "id": "ZfQIofhc7UJL",
        "colab": {
          "base_uri": "https://localhost:8080/"
        },
        "outputId": "8ac8a5eb-e9f3-4dd3-8cc2-25af013b65b5"
      },
      "execution_count": null,
      "outputs": [
        {
          "output_type": "execute_result",
          "data": {
            "text/plain": [
              "50674"
            ]
          },
          "metadata": {},
          "execution_count": 85
        }
      ]
    },
    {
      "cell_type": "markdown",
      "source": [
        "Resultado esperado obtido: Retiramos as 9 linhas que encontravam-se duplicadas no dataset\n",
        "Basta olhar o dataframe abaixo e verificar que a musica 3 AM somente aparece uma vez"
      ],
      "metadata": {
        "id": "rYUIpf6xYYjZ"
      }
    },
    {
      "cell_type": "code",
      "source": [
        "music_info_unique.filter(\"artist = 'Matchbox Twenty'\").sort(\"name\").show()"
      ],
      "metadata": {
        "colab": {
          "base_uri": "https://localhost:8080/"
        },
        "id": "K_yyOTHZYfoE",
        "outputId": "06eb5f4a-d49f-402c-a80c-2f834d44ddc2"
      },
      "execution_count": null,
      "outputs": [
        {
          "output_type": "stream",
          "name": "stdout",
          "text": [
            "+------------------+--------------+---------------+--------------------+--------------------+--------------------+-----+----+-----------+------------+------+---+--------+----+-----------+------------+----------------+--------+-------+-------+--------------+\n",
            "|          track_id|          name|         artist| spotify_preview_url|          spotify_id|                tags|genre|year|duration_ms|danceability|energy|key|loudness|mode|speechiness|acousticness|instrumentalness|liveness|valence|  tempo|time_signature|\n",
            "+------------------+--------------+---------------+--------------------+--------------------+--------------------+-----+----+-----------+------------+------+---+--------+----+-----------+------------+----------------+--------+-------+-------+--------------+\n",
            "|TRGGALK12903CB68E5|          3 AM|Matchbox Twenty|https://p.scdn.co...|5vYA1mW9g2Coh1HUF...|rock, alternative...| null|1996|     225946|       0.521| 0.673|  8|  -8.685|   1|     0.0284|     0.00573|             0.0|    0.12|  0.543|108.031|             4|\n",
            "|TRBVAGC12903CAA72B|         Angry|Matchbox Twenty|https://p.scdn.co...|2jIXpWrox6DAvK1eS...|      rock, pop_rock| null|2013|     224866|       0.514| 0.818|  2|  -6.166|   1|     0.0359|      0.0357|        9.34e-05|   0.348|  0.275|116.064|             4|\n",
            "|TRZZENG12903C9D292|         Argue|Matchbox Twenty|https://p.scdn.co...|3DrzeqjTR3O9zCBde...|rock, alternative...| null|1996|     177666|       0.557| 0.706|  0|  -7.592|   1|     0.0369|     0.00194|             0.0|    0.32|  0.812|115.122|             4|\n",
            "|TRAWCNU12903CB1203|   Bed of Lies|Matchbox Twenty|https://p.scdn.co...|1JQXYtYM4YSjOjDyu...|rock, alternative...| null|2000|     322066|       0.467| 0.642|  5|  -7.239|   1|     0.0301|       0.426|        0.000281|   0.232|  0.303| 91.029|             4|\n",
            "|TRLKZXP128F4251284|       Disease|Matchbox Twenty|https://p.scdn.co...|3POcdaiPYoL4peuFy...|rock, alternative...| Rock|2002|     219360|       0.541| 0.833|  8|  -4.647|   0|     0.0583|      0.0187|             0.0|   0.143|   0.84|115.052|             4|\n",
            "|TRLMTGO128F92D28AE|      Downfall|Matchbox Twenty|https://p.scdn.co...|2mp5NtfuneZoxCZa8...|rock, alternative...| null|2002|     247173|       0.449| 0.937|  7|  -4.507|   1|      0.121|      0.0559|        1.24e-06|   0.659|  0.277|129.264|             4|\n",
            "|TRJSCEE128F93419D7|Girl Like That|Matchbox Twenty|https://p.scdn.co...|1jif4tafd4C9QyLS9...|rock, alternative...| null|1996|     225000|       0.594|  0.73|  7|  -7.566|   1|     0.0476|       0.095|             0.0|   0.375|  0.963|144.906|             4|\n",
            "|TRIKCGX128F427BBD2|  Hand Me Down|Matchbox Twenty|https://p.scdn.co...|1gkICzTJqeUeVPthB...|rock, alternative...| Rock|2013|     302826|       0.501| 0.789|  1|  -5.372|   1|      0.044|       0.368|        1.52e-06|    0.16|  0.238|134.026|             4|\n",
            "|TRDDTQB128F424BDA8|          Hang|Matchbox Twenty|https://p.scdn.co...|0mN6twBUv7WiqKvm9...|rock, alternative...| null|2013|     227333|       0.537| 0.301|  7| -12.508|   1|     0.0294|       0.631|        6.29e-06|   0.112|   0.25| 153.78|             4|\n",
            "|TRQGZTL128F426D084|If You're Gone|Matchbox Twenty|https://p.scdn.co...|2f5N826udWfjT9iom...|rock, alternative...| null|2000|     274933|       0.544| 0.659|  9|  -7.191|   1|     0.0298|       0.427|        1.33e-06|   0.126|  0.361|109.933|             4|\n",
            "|TRDFGZW12903CFA163|      Long Day|Matchbox Twenty|https://p.scdn.co...|0mIuRQsRez89DqQ1j...|rock, alternative...| null|2013|     225666|       0.458| 0.822|  8|  -6.613|   0|     0.0431|     0.00279|             0.0|    0.15|    0.6|104.103|             4|\n",
            "|TROJKXT128F149078E|          Push|Matchbox Twenty|https://p.scdn.co...|2HpIvr7MWwxpvVmvb...|rock, alternative...| null|2013|     238666|        0.42| 0.672|  6|  -7.902|   1|      0.027|      0.0067|             0.0|   0.108|  0.476|168.019|             4|\n",
            "|TRIYDYH128F9324624|    Real World|Matchbox Twenty|https://p.scdn.co...|70fe354BpVKEvMY0d...|rock, pop, altern...| Rock|1996|     231693|       0.504| 0.761| 10|  -5.446|   1|     0.0437|     0.00628|             0.0|  0.0892|  0.884|117.999|             4|\n",
            "|TRIPPJA128F42A5EA3|          Soul|Matchbox Twenty|https://p.scdn.co...|05kGqlivP8kC4OCI7...|      rock, pop_rock| null|2013|     274293|       0.418| 0.772|  4|  -4.269|   1|     0.0483|       0.125|             0.0|   0.108|  0.527|163.982|             4|\n",
            "|TRRJNKI12903CD8BDF|      The Burn|Matchbox Twenty|https://p.scdn.co...|3qnGU52FDEcQwQ0G0...|      rock, pop_rock| null|2000|     207026|       0.486| 0.864|  6|  -6.603|   0|     0.0413|      0.0262|        5.35e-05|   0.345|  0.326| 75.019|             4|\n",
            "+------------------+--------------+---------------+--------------------+--------------------+--------------------+-----+----+-----------+------------+------+---+--------+----+-----------+------------+----------------+--------+-------+-------+--------------+\n",
            "\n"
          ]
        }
      ]
    },
    {
      "cell_type": "markdown",
      "source": [
        "#Modelagem Tabelas Fato e Dimensão"
      ],
      "metadata": {
        "id": "o0Gdo-YKlPkf"
      }
    },
    {
      "cell_type": "markdown",
      "source": [
        "Conforme o diagrama proposto, este projeto utilizará 3 tabelas\n",
        "*   1 tabela fato - Todos os registros de músicas escutadas por usuário\n",
        "*   1 tabela dimensão - Todos os usuários\n",
        "*   1 tabela dimensão - Todas as musicas/artista"
      ],
      "metadata": {
        "id": "SszszIl9lU0_"
      }
    },
    {
      "cell_type": "markdown",
      "source": [
        "![DataModelling.png](data:image/png;base64,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)"
      ],
      "metadata": {
        "id": "gS0tDHtXmNVL"
      }
    },
    {
      "cell_type": "code",
      "source": [],
      "metadata": {
        "id": "faV18PzblLSE"
      },
      "execution_count": null,
      "outputs": []
    },
    {
      "cell_type": "code",
      "source": [],
      "metadata": {
        "id": "yhCOeV23lLPj"
      },
      "execution_count": null,
      "outputs": []
    },
    {
      "cell_type": "code",
      "source": [],
      "metadata": {
        "id": "3tqAmU_alLKP"
      },
      "execution_count": null,
      "outputs": []
    },
    {
      "cell_type": "code",
      "source": [],
      "metadata": {
        "id": "M14Wpwn4lLHg"
      },
      "execution_count": null,
      "outputs": []
    },
    {
      "cell_type": "code",
      "source": [],
      "metadata": {
        "id": "eGRQFOiLlLEJ"
      },
      "execution_count": null,
      "outputs": []
    },
    {
      "cell_type": "code",
      "source": [],
      "metadata": {
        "id": "r6S48h6QlLA9"
      },
      "execution_count": null,
      "outputs": []
    },
    {
      "cell_type": "code",
      "source": [],
      "metadata": {
        "id": "QOsxRvBDlK9V"
      },
      "execution_count": null,
      "outputs": []
    },
    {
      "cell_type": "code",
      "source": [],
      "metadata": {
        "id": "K9Ez4CT8lKdz"
      },
      "execution_count": null,
      "outputs": []
    },
    {
      "cell_type": "code",
      "source": [],
      "metadata": {
        "id": "VAgFCcJvlJq1"
      },
      "execution_count": null,
      "outputs": []
    },
    {
      "cell_type": "markdown",
      "source": [
        "# Junção de tabelas (LEFT OUTER JOIN)"
      ],
      "metadata": {
        "id": "0npkQpexPUEn"
      }
    },
    {
      "cell_type": "code",
      "source": [
        "listening_history.count()"
      ],
      "metadata": {
        "id": "YoRFdT4yDYnK",
        "colab": {
          "base_uri": "https://localhost:8080/"
        },
        "outputId": "1a1352e0-8ab2-4524-cd0d-f90785224590"
      },
      "execution_count": null,
      "outputs": [
        {
          "output_type": "execute_result",
          "data": {
            "text/plain": [
              "9711301"
            ]
          },
          "metadata": {},
          "execution_count": 90
        }
      ]
    },
    {
      "cell_type": "code",
      "source": [
        "listening_history = listening_history.join(music_info.select(\"track_id\", \"name\", \"artist\"), on=[\"track_id\"], how=\"left\")"
      ],
      "metadata": {
        "id": "Fe7U_jPyGdhs"
      },
      "execution_count": null,
      "outputs": []
    },
    {
      "cell_type": "code",
      "source": [
        "listening_history.show(30)"
      ],
      "metadata": {
        "id": "cuWxa-oMJiZC",
        "colab": {
          "base_uri": "https://localhost:8080/"
        },
        "outputId": "7e1c12c3-084a-4ae1-9555-66025495dadc"
      },
      "execution_count": null,
      "outputs": [
        {
          "output_type": "stream",
          "name": "stdout",
          "text": [
            "+------------------+--------------------+---------+--------------------+--------------------+\n",
            "|          track_id|             user_id|playcount|                name|              artist|\n",
            "+------------------+--------------------+---------+--------------------+--------------------+\n",
            "|TRIRLYL128F42539D1|b80344d063b5ccb32...|        1|Nothing From Nothing|       Billy Preston|\n",
            "|TRFUPBA128F934F7E1|b80344d063b5ccb32...|        1|       Paper Gangsta|           Lady Gaga|\n",
            "|TRLQPQJ128F42AA94F|b80344d063b5ccb32...|        1|                 Soy|         Gipsy Kings|\n",
            "|TRTUCUY128F92E1D24|b80344d063b5ccb32...|        1|      Stacked Actors|        Foo Fighters|\n",
            "|TRHDDQG12903CB53EE|b80344d063b5ccb32...|        1|Heaven's Gonna Bu...|Thievery Corporation|\n",
            "|TRGRDEC128F423C07D|b80344d063b5ccb32...|        1|      Let It Be Sung|        Jack Johnson|\n",
            "|TRRYCBO128F932A2C7|b80344d063b5ccb32...|        1|          Love Shack|          The B-52's|\n",
            "|TRUTULC128F4293712|b80344d063b5ccb32...|        1|      Gimme Stitches|        Foo Fighters|\n",
            "|TRAAHSY128F147BB5C|b80344d063b5ccb32...|        2|      Speed of Sound|            Coldplay|\n",
            "|TRDLMWP128F426BF6C|b80344d063b5ccb32...|        1|         Ragged Wood|         Fleet Foxes|\n",
            "|TRMSZXT128F92F7816|b80344d063b5ccb32...|        1|Love Song For No One|          John Mayer|\n",
            "|TRVODUZ128F934D094|b80344d063b5ccb32...|        1|All That We Perceive|Thievery Corporation|\n",
            "|TRLXSNR128F429361D|b80344d063b5ccb32...|        1|           Generator|        Foo Fighters|\n",
            "|TRPUGUW128F426BF6F|b80344d063b5ccb32...|        1| He Doesn't Know Why|         Fleet Foxes|\n",
            "|TRAUCNU128F42671EB|b80344d063b5ccb32...|        1|   Tu Quieres Volver|     Sarah Brightman|\n",
            "|TRVVWSW128F4292931|b80344d063b5ccb32...|        1|               Trani|       Kings of Leon|\n",
            "|TRADVZX128F426BF79|b80344d063b5ccb32...|        1|           Sun Giant|         Fleet Foxes|\n",
            "|TRDCZUX128F4263A74|b80344d063b5ccb32...|        1|           City Love|          John Mayer|\n",
            "|TRUYKTB128F1459197|b80344d063b5ccb32...|        1|              Obiero|          Ayub Ogada|\n",
            "|TRQLOHS128F42435AE|b80344d063b5ccb32...|        1|     Holes To Heaven|        Jack Johnson|\n",
            "|TRCTFBL128F42934F3|85c1f87fea955d09b...|        2|           High Step|        Sage Francis|\n",
            "|TRPGYLT128F428AD02|85c1f87fea955d09b...|        3|            Sea Lion|        Sage Francis|\n",
            "|TRAEGXU128F9304D31|bd4c6e843f00bd476...|        1|         Camera Talk|       Local Natives|\n",
            "|TRFNNFP128F146CB4B|bd4c6e843f00bd476...|        1|           Auto Rock|              Mogwai|\n",
            "|TRWCEKE128F93191BE|bd4c6e843f00bd476...|        2| Who Knows Who Cares|       Local Natives|\n",
            "|TRADEOV128F9330E3B|bd4c6e843f00bd476...|        1|Happiness: We're ...|This Will Destroy...|\n",
            "|TRTQVKS128F92EF9BE|bd4c6e843f00bd476...|        1|Swimming In The F...|         Passion Pit|\n",
            "|TRSGIYX128F149F01F|969cc6fb74e076a68...|        1|          Medicating|      Boys Night Out|\n",
            "|TRXWAZC128F9314B3E|969cc6fb74e076a68...|        1|  Heartbreak Warfare|          John Mayer|\n",
            "|TRDOYFZ128F426E715|969cc6fb74e076a68...|        1|       Saturday Nite|  Earth, Wind & Fire|\n",
            "+------------------+--------------------+---------+--------------------+--------------------+\n",
            "only showing top 30 rows\n",
            "\n"
          ]
        }
      ]
    },
    {
      "cell_type": "code",
      "source": [],
      "metadata": {
        "id": "2Y6dcmq5zYsl"
      },
      "execution_count": null,
      "outputs": []
    },
    {
      "cell_type": "code",
      "source": [],
      "metadata": {
        "id": "v0oC2C1Q0Pys"
      },
      "execution_count": null,
      "outputs": []
    },
    {
      "cell_type": "code",
      "source": [],
      "metadata": {
        "id": "5wVZA96c5Z5b"
      },
      "execution_count": null,
      "outputs": []
    },
    {
      "cell_type": "code",
      "source": [],
      "metadata": {
        "id": "RNBN3-Wf5j3p"
      },
      "execution_count": null,
      "outputs": []
    }
  ]
}