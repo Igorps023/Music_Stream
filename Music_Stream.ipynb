{
  "nbformat": 4,
  "nbformat_minor": 0,
  "metadata": {
    "colab": {
      "provenance": [],
      "authorship_tag": "ABX9TyPRSZKIGS6UjgiLpQYxE7E7",
      "include_colab_link": true
    },
    "kernelspec": {
      "name": "python3",
      "display_name": "Python 3"
    },
    "language_info": {
      "name": "python"
    }
  },
  "cells": [
    {
      "cell_type": "markdown",
      "metadata": {
        "id": "view-in-github",
        "colab_type": "text"
      },
      "source": [
        "<a href=\"https://colab.research.google.com/github/Igorps023/Music_Stream/blob/main/Music_Stream.ipynb\" target=\"_parent\"><img src=\"https://colab.research.google.com/assets/colab-badge.svg\" alt=\"Open In Colab\"/></a>"
      ]
    },
    {
      "cell_type": "code",
      "execution_count": null,
      "metadata": {
        "id": "5n7gYLzwvTTS"
      },
      "outputs": [],
      "source": []
    },
    {
      "cell_type": "markdown",
      "source": [
        "# ETL e Análise Exploratória Streaming de Música"
      ],
      "metadata": {
        "id": "AXmJN28l1w2T"
      }
    },
    {
      "cell_type": "code",
      "source": [],
      "metadata": {
        "id": "-N-Gw1QU13n4"
      },
      "execution_count": null,
      "outputs": []
    },
    {
      "cell_type": "markdown",
      "source": [
        "# Código"
      ],
      "metadata": {
        "id": "cd4b9OsD171u"
      }
    },
    {
      "cell_type": "code",
      "source": [
        "# Desmontar o Google Drive (se já estiver montado)\n",
        "from google.colab import drive\n",
        "drive.flush_and_unmount()\n",
        "\n",
        "# Montar o Google Drive novamente\n",
        "drive.mount('/content/drive')"
      ],
      "metadata": {
        "colab": {
          "base_uri": "https://localhost:8080/"
        },
        "id": "d66nl_ad1-T8",
        "outputId": "4341b7fd-bd61-4d59-83db-aded3a62e6a6"
      },
      "execution_count": null,
      "outputs": [
        {
          "output_type": "stream",
          "name": "stdout",
          "text": [
            "Mounted at /content/drive\n"
          ]
        }
      ]
    },
    {
      "cell_type": "code",
      "source": [
        "# instalar as dependências\n",
        "!apt-get install openjdk-8-jdk-headless -qq > /dev/null\n",
        "!wget -q https://archive.apache.org/dist/spark/spark-3.3.1//spark-3.3.1-bin-hadoop2.tgz\n",
        "!tar xf spark-3.3.1-bin-hadoop2.tgz\n",
        "!pip install -q findspark"
      ],
      "metadata": {
        "id": "SbfrSb7y1_mL"
      },
      "execution_count": null,
      "outputs": []
    },
    {
      "cell_type": "code",
      "source": [
        "#\n",
        "#!pip install pyspark"
      ],
      "metadata": {
        "id": "gVInauTNA9zN"
      },
      "execution_count": null,
      "outputs": []
    },
    {
      "cell_type": "code",
      "source": [
        "#from pyspark.sql import SparkSession\n",
        "\n",
        "# Criar uma instância do SparkSession\n",
        "#spark = SparkSession.builder.master(\"local\").appName(\"NomeDoApp\").getOrCreate()\n",
        "\n",
        "# Agora você pode utilizar o Spark\n",
        "# ..."
      ],
      "metadata": {
        "id": "OykZ2GTkBTbl"
      },
      "execution_count": null,
      "outputs": []
    },
    {
      "cell_type": "code",
      "source": [
        "# configurar as variáveis de ambiente\n",
        "import os\n",
        "os.environ[\"JAVA_HOME\"] = \"/usr/lib/jvm/java-8-openjdk-amd64\"\n",
        "os.environ[\"SPARK_HOME\"] = \"/content/spark-3.3.1-bin-hadoop2.7\""
      ],
      "metadata": {
        "id": "pLiIGe7O2BeZ"
      },
      "execution_count": null,
      "outputs": []
    },
    {
      "cell_type": "code",
      "source": [
        "#importando biblioteca para reconhecer o pyspark\n",
        "import findspark\n",
        "findspark.init('spark-3.3.1-bin-hadoop2')"
      ],
      "metadata": {
        "id": "K8ni6oIS2B9o"
      },
      "execution_count": null,
      "outputs": []
    },
    {
      "cell_type": "code",
      "source": [
        "#escrevendo um arquivo no nosso Drive para testar o mapeamento\n",
        "with open('/content/drive/My Drive/Colab Notebooks/testando_mount.txt', 'w') as f:\n",
        "    f.write('content')"
      ],
      "metadata": {
        "id": "QFtOlK6-2DFS"
      },
      "execution_count": null,
      "outputs": []
    },
    {
      "cell_type": "code",
      "source": [
        "#Criando nossa primeira Sessão com o SparkSession\n",
        "from pyspark.sql import SparkSession\n",
        "\n",
        "spark = SparkSession \\\n",
        "    .builder \\\n",
        "    .appName(\"Aplicação Pyspark Music_Stream Process_1\") \\\n",
        "    .config('spark.ui.port', '4050') \\\n",
        "    .getOrCreate()\t"
      ],
      "metadata": {
        "id": "kWHc6bKP2Eej"
      },
      "execution_count": null,
      "outputs": []
    },
    {
      "cell_type": "code",
      "source": [
        "spark"
      ],
      "metadata": {
        "id": "i2IiUGca2FhK",
        "colab": {
          "base_uri": "https://localhost:8080/",
          "height": 219
        },
        "outputId": "058fba18-841d-4fde-d3b8-b3e7046547f4"
      },
      "execution_count": null,
      "outputs": [
        {
          "output_type": "execute_result",
          "data": {
            "text/plain": [
              "<pyspark.sql.session.SparkSession at 0x7fbac6f4a470>"
            ],
            "text/html": [
              "\n",
              "            <div>\n",
              "                <p><b>SparkSession - in-memory</b></p>\n",
              "                \n",
              "        <div>\n",
              "            <p><b>SparkContext</b></p>\n",
              "\n",
              "            <p><a href=\"http://b49764db3f95:4050\">Spark UI</a></p>\n",
              "\n",
              "            <dl>\n",
              "              <dt>Version</dt>\n",
              "                <dd><code>v3.3.1</code></dd>\n",
              "              <dt>Master</dt>\n",
              "                <dd><code>local[*]</code></dd>\n",
              "              <dt>AppName</dt>\n",
              "                <dd><code>Aplicação Pyspark Supply_Chain</code></dd>\n",
              "            </dl>\n",
              "        </div>\n",
              "        \n",
              "            </div>\n",
              "        "
            ]
          },
          "metadata": {},
          "execution_count": 58
        }
      ]
    },
    {
      "cell_type": "code",
      "source": [
        "#instalar extensão kaggle\n",
        "!pip install kaggle"
      ],
      "metadata": {
        "id": "DR55FJkA2Gaw",
        "colab": {
          "base_uri": "https://localhost:8080/"
        },
        "outputId": "4e539a81-79ab-4997-cf6d-7909f9fa7de4"
      },
      "execution_count": null,
      "outputs": [
        {
          "output_type": "stream",
          "name": "stdout",
          "text": [
            "Looking in indexes: https://pypi.org/simple, https://us-python.pkg.dev/colab-wheels/public/simple/\n",
            "Requirement already satisfied: kaggle in /usr/local/lib/python3.10/dist-packages (1.5.13)\n",
            "Requirement already satisfied: six>=1.10 in /usr/local/lib/python3.10/dist-packages (from kaggle) (1.16.0)\n",
            "Requirement already satisfied: certifi in /usr/local/lib/python3.10/dist-packages (from kaggle) (2022.12.7)\n",
            "Requirement already satisfied: python-dateutil in /usr/local/lib/python3.10/dist-packages (from kaggle) (2.8.2)\n",
            "Requirement already satisfied: requests in /usr/local/lib/python3.10/dist-packages (from kaggle) (2.27.1)\n",
            "Requirement already satisfied: tqdm in /usr/local/lib/python3.10/dist-packages (from kaggle) (4.65.0)\n",
            "Requirement already satisfied: python-slugify in /usr/local/lib/python3.10/dist-packages (from kaggle) (8.0.1)\n",
            "Requirement already satisfied: urllib3 in /usr/local/lib/python3.10/dist-packages (from kaggle) (1.26.15)\n",
            "Requirement already satisfied: text-unidecode>=1.3 in /usr/local/lib/python3.10/dist-packages (from python-slugify->kaggle) (1.3)\n",
            "Requirement already satisfied: charset-normalizer~=2.0.0 in /usr/local/lib/python3.10/dist-packages (from requests->kaggle) (2.0.12)\n",
            "Requirement already satisfied: idna<4,>=2.5 in /usr/local/lib/python3.10/dist-packages (from requests->kaggle) (3.4)\n"
          ]
        }
      ]
    },
    {
      "cell_type": "code",
      "source": [
        "import json \n",
        "import os\n",
        "from pathlib import Path\n",
        "\n",
        "# your api key\n",
        "api_key = {\n",
        "'username':\"igorpereirasilva\" ,\n",
        "'key':\"932cad93df082ec0266d416f7e420cdd\"}\n",
        "\n",
        "# uses pathlib Path\n",
        "kaggle_path = Path('/root/.kaggle')\n",
        "os.makedirs(kaggle_path, exist_ok=True)\n",
        "\n",
        "# opens file and dumps python dict to json object \n",
        "with open (kaggle_path/'kaggle.json', 'w') as handl:\n",
        "    json.dump(api_key,handl)\n",
        "\n",
        "os.chmod(kaggle_path/'kaggle.json', 600)  "
      ],
      "metadata": {
        "id": "B07A6ID12H6u"
      },
      "execution_count": null,
      "outputs": []
    },
    {
      "cell_type": "code",
      "source": [
        "#importar biblioteca kaggle\n",
        "import kaggle"
      ],
      "metadata": {
        "id": "EGKibJTl2Kbd"
      },
      "execution_count": null,
      "outputs": []
    },
    {
      "cell_type": "code",
      "source": [
        "#pathway até o dataset\n",
        "kaggle.api.authenticate()\n",
        "kaggle.api.dataset_download_files('undefinenull/million-song-dataset-spotify-lastfm', path='./data', unzip=True)\n",
        "\n",
        "#URL Dataset\n",
        "#https://www.kaggle.com/datasets/undefinenull/million-song-dataset-spotify-lastfm"
      ],
      "metadata": {
        "id": "H-DLd8cb2K89"
      },
      "execution_count": null,
      "outputs": []
    },
    {
      "cell_type": "markdown",
      "source": [
        "# Leitura Datasets"
      ],
      "metadata": {
        "id": "UdWygQFQOrsw"
      }
    },
    {
      "cell_type": "code",
      "source": [
        "# ler o arquivo JSON baixado do Kaggle\n",
        "music_info = spark.read.csv(\"./data/Music Info.csv\", sep=\",\", header=True)\n",
        "listening_history = spark.read.csv(\"./data/User Listening History.csv\", sep=\",\", header=True)"
      ],
      "metadata": {
        "id": "mNt2jxmI2YY2"
      },
      "execution_count": null,
      "outputs": []
    },
    {
      "cell_type": "markdown",
      "source": [
        "# Type Dataframe"
      ],
      "metadata": {
        "id": "LG1WMy4pOwvt"
      }
    },
    {
      "cell_type": "code",
      "source": [
        "music_info"
      ],
      "metadata": {
        "id": "v-qO74-v2hCP",
        "colab": {
          "base_uri": "https://localhost:8080/"
        },
        "outputId": "e3fd57a7-258a-42e7-b73f-5271a23bba36"
      },
      "execution_count": null,
      "outputs": [
        {
          "output_type": "execute_result",
          "data": {
            "text/plain": [
              "DataFrame[track_id: string, name: string, artist: string, spotify_preview_url: string, spotify_id: string, tags: string, genre: string, year: string, duration_ms: string, danceability: string, energy: string, key: string, loudness: string, mode: string, speechiness: string, acousticness: string, instrumentalness: string, liveness: string, valence: string, tempo: string, time_signature: string]"
            ]
          },
          "metadata": {},
          "execution_count": 64
        }
      ]
    },
    {
      "cell_type": "code",
      "source": [
        "listening_history"
      ],
      "metadata": {
        "id": "tbEgYkcGbClU",
        "colab": {
          "base_uri": "https://localhost:8080/"
        },
        "outputId": "703b0465-11ad-4ae8-87e0-2c6aceb4539f"
      },
      "execution_count": null,
      "outputs": [
        {
          "output_type": "execute_result",
          "data": {
            "text/plain": [
              "DataFrame[track_id: string, user_id: string, playcount: string]"
            ]
          },
          "metadata": {},
          "execution_count": 65
        }
      ]
    },
    {
      "cell_type": "markdown",
      "source": [
        "# Numero Linhas e Colunas"
      ],
      "metadata": {
        "id": "gRq4azSDO4ld"
      }
    },
    {
      "cell_type": "code",
      "source": [
        "#numero colunas e linhas\n",
        "num_rows = music_info.count()\n",
        "num_cols = len(music_info.columns)"
      ],
      "metadata": {
        "id": "wC3iG29y3MwZ"
      },
      "execution_count": null,
      "outputs": []
    },
    {
      "cell_type": "code",
      "source": [
        "print('Shape: ({}, {})'.format(num_rows, num_cols))"
      ],
      "metadata": {
        "id": "pEAL9nKD3O1M",
        "colab": {
          "base_uri": "https://localhost:8080/"
        },
        "outputId": "f1cd56ec-a8bc-4fd3-8f48-5cd959731d81"
      },
      "execution_count": null,
      "outputs": [
        {
          "output_type": "stream",
          "name": "stdout",
          "text": [
            "Shape: (50683, 21)\n"
          ]
        }
      ]
    },
    {
      "cell_type": "markdown",
      "source": [
        "# Descricao Colunas"
      ],
      "metadata": {
        "id": "eUIoxNhrO9s2"
      }
    },
    {
      "cell_type": "code",
      "source": [
        "#colunas\n",
        "music_info.columns"
      ],
      "metadata": {
        "id": "E1A3Ouqs3QKK",
        "colab": {
          "base_uri": "https://localhost:8080/"
        },
        "outputId": "27c9bc76-4c59-4c0d-bdbb-56fac8024a49"
      },
      "execution_count": null,
      "outputs": [
        {
          "output_type": "execute_result",
          "data": {
            "text/plain": [
              "['track_id',\n",
              " 'name',\n",
              " 'artist',\n",
              " 'spotify_preview_url',\n",
              " 'spotify_id',\n",
              " 'tags',\n",
              " 'genre',\n",
              " 'year',\n",
              " 'duration_ms',\n",
              " 'danceability',\n",
              " 'energy',\n",
              " 'key',\n",
              " 'loudness',\n",
              " 'mode',\n",
              " 'speechiness',\n",
              " 'acousticness',\n",
              " 'instrumentalness',\n",
              " 'liveness',\n",
              " 'valence',\n",
              " 'tempo',\n",
              " 'time_signature']"
            ]
          },
          "metadata": {},
          "execution_count": 68
        }
      ]
    },
    {
      "cell_type": "code",
      "source": [
        "#colunas\n",
        "listening_history.columns"
      ],
      "metadata": {
        "colab": {
          "base_uri": "https://localhost:8080/"
        },
        "id": "s8ZvvqFHPEug",
        "outputId": "c29cae7e-fde5-4420-f940-e67a5423bcb5"
      },
      "execution_count": null,
      "outputs": [
        {
          "output_type": "execute_result",
          "data": {
            "text/plain": [
              "['track_id', 'user_id', 'playcount']"
            ]
          },
          "metadata": {},
          "execution_count": 69
        }
      ]
    },
    {
      "cell_type": "markdown",
      "source": [
        "# Preview Tabela"
      ],
      "metadata": {
        "id": "1ptG2T6nPH59"
      }
    },
    {
      "cell_type": "code",
      "source": [
        "music_info.show(20, truncate=False)"
      ],
      "metadata": {
        "id": "G4NMZOlw3RH8",
        "colab": {
          "base_uri": "https://localhost:8080/"
        },
        "outputId": "1859ade5-fc04-480a-92eb-525abea09efe"
      },
      "execution_count": null,
      "outputs": [
        {
          "output_type": "stream",
          "name": "stdout",
          "text": [
            "+------------------+-----------------+---------------------+-----------------------------------------------------------------------------------------------------------+----------------------+------------------------------------------------------------------------------------------------------+-----+----+-----------+------------+------+---+--------+----+-----------+------------+----------------+--------+-------+-------+--------------+\n",
            "|track_id          |name             |artist               |spotify_preview_url                                                                                        |spotify_id            |tags                                                                                                  |genre|year|duration_ms|danceability|energy|key|loudness|mode|speechiness|acousticness|instrumentalness|liveness|valence|tempo  |time_signature|\n",
            "+------------------+-----------------+---------------------+-----------------------------------------------------------------------------------------------------------+----------------------+------------------------------------------------------------------------------------------------------+-----+----+-----------+------------+------+---+--------+----+-----------+------------+----------------+--------+-------+-------+--------------+\n",
            "|TRIOREW128F424EAF0|Mr. Brightside   |The Killers          |https://p.scdn.co/mp3-preview/4d26180e6961fd46866cd9106936ea55dfcbaa75?cid=774b29d4f13844c495f206cafdad9c86|09ZQ5TmUG8TSL56n0knqrj|rock, alternative, indie, alternative_rock, indie_rock, 00s                                           |null |2004|222200     |0.355       |0.918 |1  |-4.36   |1   |0.0746     |0.00119     |0.0             |0.0971  |0.24   |148.114|4             |\n",
            "|TRRIVDJ128F429B0E8|Wonderwall       |Oasis                |https://p.scdn.co/mp3-preview/d012e536916c927bd6c8ced0dae75ee3b7715983?cid=774b29d4f13844c495f206cafdad9c86|06UfBBDISthj1ZJAtX4xjj|rock, alternative, indie, pop, alternative_rock, british, 90s, love, britpop                          |null |2006|258613     |0.409       |0.892 |2  |-4.373  |1   |0.0336     |0.000807    |0.0             |0.207   |0.651  |174.426|4             |\n",
            "|TROUVHL128F426C441|Come as You Are  |Nirvana              |https://p.scdn.co/mp3-preview/a1c11bb1cb231031eb20e5951a8bfb30503224e9?cid=774b29d4f13844c495f206cafdad9c86|0keNu0t0tqsWtExGM3nT1D|rock, alternative, alternative_rock, 90s, grunge                                                      |RnB  |1991|218920     |0.508       |0.826 |4  |-5.783  |0   |0.04       |0.000175    |0.000459        |0.0878  |0.543  |120.012|4             |\n",
            "|TRUEIND128F93038C4|Take Me Out      |Franz Ferdinand      |https://p.scdn.co/mp3-preview/399c401370438be449c2aebff816ba8c62559871?cid=774b29d4f13844c495f206cafdad9c86|0ancVQ9wEcHVd0RrGICTE4|rock, alternative, indie, alternative_rock, indie_rock, british, 00s, britpop                         |null |2004|237026     |0.279       |0.664 |9  |-8.851  |1   |0.0371     |0.000389    |0.000655        |0.133   |0.49   |104.56 |4             |\n",
            "|TRLNZBD128F935E4D8|Creep            |Radiohead            |https://p.scdn.co/mp3-preview/e7eb60e9466bc3a27299ea8803aadf4fa9cf795c?cid=774b29d4f13844c495f206cafdad9c86|01QoK9DA7VTeTSE3MNzp4I|rock, alternative, indie, alternative_rock, indie_rock, british, 90s, britpop                         |RnB  |2008|238640     |0.515       |0.43  |7  |-9.935  |1   |0.0369     |0.0102      |0.000141        |0.129   |0.104  |91.841 |4             |\n",
            "|TRUMISQ128F9340BEE|Somebody Told Me |The Killers          |https://p.scdn.co/mp3-preview/0d07673cfb46218a49c96eed639933f19b45cf9c?cid=774b29d4f13844c495f206cafdad9c86|0FNmIQ7u45Lhdn6RHhSLix|rock, alternative, indie, pop, alternative_rock, indie_rock                                           |null |2005|198480     |0.508       |0.979 |10 |-4.289  |0   |0.0847     |8.71e-05    |0.000643        |0.0641  |0.704  |138.03 |4             |\n",
            "|TRVCCWR128F9304A30|Viva la Vida     |Coldplay             |https://p.scdn.co/mp3-preview/ab747fed1bfab2ac2c8ef7a260822520f6345113?cid=774b29d4f13844c495f206cafdad9c86|08A1lZeyLMWH58DT6aYjnC|rock, alternative, indie, pop, alternative_rock, british, britpop                                     |null |2013|235384     |0.588       |0.806 |8  |-7.903  |1   |0.105      |0.153       |0.0             |0.0634  |0.52   |137.973|4             |\n",
            "|TRXOGZT128F424AD74|Karma Police     |Radiohead            |https://p.scdn.co/mp3-preview/5a09f5390e2862af1687f3671db3d6f84a813a45?cid=774b29d4f13844c495f206cafdad9c86|01puceOqImrzSfKDAcd1Ia|rock, alternative, indie, alternative_rock, indie_rock, british, 90s, britpop                         |null |1996|264066     |0.36        |0.505 |7  |-9.129  |1   |0.026      |0.0626      |9.22e-05        |0.172   |0.317  |74.807 |4             |\n",
            "|TRMZXEW128F9341FD5|The Scientist    |Coldplay             |https://p.scdn.co/mp3-preview/95cb9df1b056d759920b5e85ad7f9aff0a390671?cid=774b29d4f13844c495f206cafdad9c86|0GSSsT9szp0rJkBrYkzy6s|rock, alternative, indie, pop, alternative_rock, british, piano, love, beautiful, 00s, britpop, mellow|Rock |2007|311014     |0.566       |0.429 |5  |-7.826  |1   |0.0242     |0.715       |1.44e-05        |0.12    |0.173  |146.365|4             |\n",
            "|TRUJIIV12903CA8848|Clocks           |Coldplay             |https://p.scdn.co/mp3-preview/24c7fe858b234e3cb21872cd03ab44b669163fbb?cid=774b29d4f13844c495f206cafdad9c86|0BCPKOYdS2jbQ8iyB56Zns|rock, alternative, indie, pop, alternative_rock, british, chillout, piano, britpop                    |null |2002|307879     |0.577       |0.749 |5  |-7.215  |0   |0.0279     |0.599       |0.0115          |0.183   |0.255  |130.97 |4             |\n",
            "|TRIODZU128E078F3E2|Under the Bridge |Red Hot Chili Peppers|https://p.scdn.co/mp3-preview/90e41778392f27b6f7dd82db4c90916b3727aa6a?cid=774b29d4f13844c495f206cafdad9c86|06zh28PcYIFvNOAz5Wq2Xb|rock, alternative, alternative_rock, 90s, funk                                                        |Pop  |2003|265506     |0.554       |0.49  |4  |-8.046  |1   |0.0457     |0.0168      |0.000534        |0.136   |0.513  |84.275 |4             |\n",
            "|TRURKLR12903CEBD47|Seven Nation Army|The White Stripes    |https://p.scdn.co/mp3-preview/0cf1b44cf203258ea446560c62e891b887262024?cid=774b29d4f13844c495f206cafdad9c86|025zyxycElQVXwZSzrvJQr|rock, alternative, indie, alternative_rock, indie_rock                                                |null |2008|232680     |0.759       |0.465 |4  |-7.602  |0   |0.0806     |0.00662     |0.288           |0.257   |0.305  |124.049|4             |\n",
            "|TRYEZGE128F92D04C8|Feel Good Inc.   |Gorillaz             |https://p.scdn.co/mp3-preview/7388c425022ced92b1caa7f73bcf0cb3080aee47?cid=774b29d4f13844c495f206cafdad9c86|09xrHi86kLkEIzDLZiHNnv|rock, electronic, alternative, indie, pop, alternative_rock, dance, british, hip_hop, trip_hop        |RnB  |2010|223106     |0.809       |0.72  |6  |-7.776  |1   |0.136      |0.0337      |0.00141         |0.826   |0.832  |138.556|4             |\n",
            "|TRUENYK128F4274057|Chop Suey!       |System of a Down     |https://p.scdn.co/mp3-preview/cd2a1f9fd7619bdae4e2e718b11d5bb054a3d677?cid=774b29d4f13844c495f206cafdad9c86|0EIIqshB4doby2sMQpeqGN|rock, alternative, metal, alternative_rock, hard_rock, nu_metal                                       |Metal|2008|210480     |0.42        |0.925 |7  |-4.217  |0   |0.12       |0.000363    |0.002           |0.1     |0.322  |127.422|4             |\n",
            "|TRXNTMB12903CA884A|Fix You          |Coldplay             |https://p.scdn.co/mp3-preview/b1640815319b2df5ddfac27a28f016319a281468?cid=774b29d4f13844c495f206cafdad9c86|0Kk4dfh9Kq7Okg4T58IBVR|rock, alternative, indie, pop, alternative_rock, british, love, beautiful, britpop, mellow            |null |2016|295826     |0.213       |0.416 |3  |-8.683  |1   |0.0336     |0.164       |0.00168         |0.11    |0.129  |138.478|4             |\n",
            "|TRREXPI128E078EE14|Lithium          |Nirvana              |https://p.scdn.co/mp3-preview/e346fce09e0dc8858d279bb42d5bf41bd9e603bb?cid=774b29d4f13844c495f206cafdad9c86|07hCnHx9DhqZg5eN6RvCbd|rock, alternative, alternative_rock, 90s, grunge                                                      |null |1991|257053     |0.678       |0.656 |7  |-6.41   |1   |0.0381     |0.00174     |0.0             |0.0631  |0.485  |123.207|4             |\n",
            "|TRAJBOD128F9303DCD|Song 2           |Blur                 |https://p.scdn.co/mp3-preview/183c0855e94b58dcb267e2b0721d4a3c99260acf?cid=774b29d4f13844c495f206cafdad9c86|0g0VHJLFYFN3yHZImyQhPA|rock, alternative, indie, alternative_rock, indie_rock, british, 90s, britpop                         |null |2012|122080     |0.676       |0.723 |8  |-5.127  |1   |0.131      |0.00227     |0.0199          |0.0897  |0.779  |129.7  |4             |\n",
            "|TRFNTDZ128F426B34D|In the End       |Linkin Park          |https://p.scdn.co/mp3-preview/6ce8bcf317e8c562f348ea22c846846b5b70e8d9?cid=774b29d4f13844c495f206cafdad9c86|138JuTi1U3WIROalXod9FB|rock, alternative, metal, alternative_rock, nu_metal                                                  |null |2000|216933     |0.542       |0.853 |3  |-6.407  |0   |0.0498     |0.0103      |0.0             |0.108   |0.37   |105.256|4             |\n",
            "|TRCSXPV128F425E2F7|Chasing Cars     |Snow Patrol          |https://p.scdn.co/mp3-preview/f6718903c52c507068a15158552eab1f4d8da28f?cid=774b29d4f13844c495f206cafdad9c86|01Jvw9zNg5LM2RF8WNfnLy|rock, alternative, indie, pop, alternative_rock, indie_rock, british, love, beautiful, britpop, mellow|null |2006|265573     |0.558       |0.568 |9  |-5.731  |1   |0.0267     |0.211       |5e-05           |0.104   |0.125  |104.0  |4             |\n",
            "|TRDKPRZ128F92F37EA|Otherside        |Red Hot Chili Peppers|https://p.scdn.co/mp3-preview/fe298962db3331e8523c714490c678be5313809a?cid=774b29d4f13844c495f206cafdad9c86|0lfH1VLbnBywPOmIMit60M|rock, alternative, alternative_rock, 90s, funk                                                        |null |2014|255400     |0.459       |0.795 |0  |-3.265  |1   |0.0575     |0.00316     |0.000202        |0.0751  |0.513  |123.23 |4             |\n",
            "+------------------+-----------------+---------------------+-----------------------------------------------------------------------------------------------------------+----------------------+------------------------------------------------------------------------------------------------------+-----+----+-----------+------------+------+---+--------+----+-----------+------------+----------------+--------+-------+-------+--------------+\n",
            "only showing top 20 rows\n",
            "\n"
          ]
        }
      ]
    },
    {
      "cell_type": "code",
      "source": [
        "test = listening_history.sort(\"user_id\").show(20, truncate=False)"
      ],
      "metadata": {
        "id": "zYsx21zu348d",
        "colab": {
          "base_uri": "https://localhost:8080/"
        },
        "outputId": "481b3176-5625-4321-b559-386e6c5ed10a"
      },
      "execution_count": null,
      "outputs": [
        {
          "output_type": "stream",
          "name": "stdout",
          "text": [
            "+------------------+----------------------------------------+---------+\n",
            "|track_id          |user_id                                 |playcount|\n",
            "+------------------+----------------------------------------+---------+\n",
            "|TRQEBOU128F425D087|00000b722001882066dff9d2da8a775658053ea0|1        |\n",
            "|TRBCDMC128F1452976|00001638d6189236866af9bbf309ae6c2347ffdc|1        |\n",
            "|TRHVDTF128F428D64C|0000175652312d12576d9e6b84f600caa24c4715|1        |\n",
            "|TRGEIDA128F933B4B8|00001cf0dce3fb22b0df0f3a1d9cd21e38385372|1        |\n",
            "|TRKABMK128F426BF72|00001cf0dce3fb22b0df0f3a1d9cd21e38385372|2        |\n",
            "|TRVRIBZ128F426BF71|00001cf0dce3fb22b0df0f3a1d9cd21e38385372|1        |\n",
            "|TRPUGUW128F426BF6F|00001cf0dce3fb22b0df0f3a1d9cd21e38385372|1        |\n",
            "|TREZYWT128F93191B7|00001cf0dce3fb22b0df0f3a1d9cd21e38385372|2        |\n",
            "|TRZPDFG128F92FDEF5|00001cf0dce3fb22b0df0f3a1d9cd21e38385372|2        |\n",
            "|TRIYKXW128F92FDF08|00001cf0dce3fb22b0df0f3a1d9cd21e38385372|2        |\n",
            "|TRTPXAP12903CA1A14|00001cf0dce3fb22b0df0f3a1d9cd21e38385372|2        |\n",
            "|TRIVDZY12903CC7671|0000267bde1b3a70ea75cf2b2d216cb828e3202b|1        |\n",
            "|TRXVQAJ128F9316B65|0000267bde1b3a70ea75cf2b2d216cb828e3202b|1        |\n",
            "|TRLTISM128F424FEFB|0000267bde1b3a70ea75cf2b2d216cb828e3202b|1        |\n",
            "|TRSMXVB128F42858BC|0000267bde1b3a70ea75cf2b2d216cb828e3202b|1        |\n",
            "|TRODQGV128F425FD7E|0000267bde1b3a70ea75cf2b2d216cb828e3202b|1        |\n",
            "|TRORDNM128F427560D|0000267bde1b3a70ea75cf2b2d216cb828e3202b|1        |\n",
            "|TRPXIWX128F429831F|0000267bde1b3a70ea75cf2b2d216cb828e3202b|1        |\n",
            "|TREXNUE128F92FFC12|0000267bde1b3a70ea75cf2b2d216cb828e3202b|1        |\n",
            "|TRJGDTG128F421CE22|0000267bde1b3a70ea75cf2b2d216cb828e3202b|1        |\n",
            "+------------------+----------------------------------------+---------+\n",
            "only showing top 20 rows\n",
            "\n"
          ]
        }
      ]
    },
    {
      "cell_type": "markdown",
      "source": [
        "# Schema"
      ],
      "metadata": {
        "id": "w6BUjZZQPOq9"
      }
    },
    {
      "cell_type": "code",
      "source": [
        "#Schema Tabela\n",
        "#Podemos notar que todos os dados foram armazenados como string, faremos alteracoes futuramente para melhor performance\n",
        "listening_history.printSchema()"
      ],
      "metadata": {
        "colab": {
          "base_uri": "https://localhost:8080/"
        },
        "id": "-rW7ZF6bCq53",
        "outputId": "fd1fa8eb-27bd-4048-c693-d6b22c3e26ad"
      },
      "execution_count": null,
      "outputs": [
        {
          "output_type": "stream",
          "name": "stdout",
          "text": [
            "root\n",
            " |-- track_id: string (nullable = true)\n",
            " |-- user_id: string (nullable = true)\n",
            " |-- playcount: string (nullable = true)\n",
            "\n"
          ]
        }
      ]
    },
    {
      "cell_type": "code",
      "source": [
        "#Schema Tabela\n",
        "#Podemos notar que todos os dados foram armazenados como string, faremos alteracoes futuramente para melhor performance\n",
        "music_info.printSchema()"
      ],
      "metadata": {
        "colab": {
          "base_uri": "https://localhost:8080/"
        },
        "id": "yvhtJFxkDDqZ",
        "outputId": "f9c03aec-882f-4927-daad-5a0a6f381c8e"
      },
      "execution_count": null,
      "outputs": [
        {
          "output_type": "stream",
          "name": "stdout",
          "text": [
            "root\n",
            " |-- track_id: string (nullable = true)\n",
            " |-- name: string (nullable = true)\n",
            " |-- artist: string (nullable = true)\n",
            " |-- spotify_preview_url: string (nullable = true)\n",
            " |-- spotify_id: string (nullable = true)\n",
            " |-- tags: string (nullable = true)\n",
            " |-- genre: string (nullable = true)\n",
            " |-- year: string (nullable = true)\n",
            " |-- duration_ms: string (nullable = true)\n",
            " |-- danceability: string (nullable = true)\n",
            " |-- energy: string (nullable = true)\n",
            " |-- key: string (nullable = true)\n",
            " |-- loudness: string (nullable = true)\n",
            " |-- mode: string (nullable = true)\n",
            " |-- speechiness: string (nullable = true)\n",
            " |-- acousticness: string (nullable = true)\n",
            " |-- instrumentalness: string (nullable = true)\n",
            " |-- liveness: string (nullable = true)\n",
            " |-- valence: string (nullable = true)\n",
            " |-- tempo: string (nullable = true)\n",
            " |-- time_signature: string (nullable = true)\n",
            "\n"
          ]
        }
      ]
    },
    {
      "cell_type": "markdown",
      "source": [
        "# Verificando a existência de registros nulos"
      ],
      "metadata": {
        "id": "llr89UjCVvdF"
      }
    },
    {
      "cell_type": "code",
      "source": [
        "def check_nulls(dataframe, name) -> None:\n",
        "    '''\n",
        "    Verifica e exibe a quantidade de valores nulos em cada coluna do dataframe.\n",
        "\n",
        "    :param dataframe: DataFrame\n",
        "        Dataframe a ser analisado.\n",
        "    :param name: str\n",
        "        Nome identificando o dataframe para exibição na saída.\n",
        "    '''\n",
        "    print(f'\\n{name.upper()} { \"-\" * (100 - len(name))}')\n",
        "    for coluna in dataframe.columns:\n",
        "        qty = dataframe.filter(dataframe[coluna].isNull()).count()\n",
        "        if qty >= 1:\n",
        "            print(f'{coluna}: {qty}')"
      ],
      "metadata": {
        "id": "KLe52CyfVzDc"
      },
      "execution_count": null,
      "outputs": []
    },
    {
      "cell_type": "markdown",
      "source": [
        "from pyspark.sql.functions import col\n",
        "\n",
        "def check_empty(dataframe, name) -> None:\n",
        "    '''\n",
        "    Verifica e exibe a quantidade de valores nulos em cada coluna do dataframe.\n",
        "\n",
        "    :param dataframe: DataFrame\n",
        "        Dataframe a ser analisado.\n",
        "    :param name: str\n",
        "        Nome identificando o dataframe para exibição na saída.\n",
        "    '''\n",
        "    print(f'\\n{name.upper()} { \"-\" * (100 - len(name))}')\n",
        "    for coluna in dataframe.columns:\n",
        "        qty = dataframe.filter(col(coluna).isNull() | (col(coluna) == \"\")).count()\n",
        "        if qty >= 1:\n",
        "            print(f'{coluna}: {qty}')"
      ],
      "metadata": {
        "id": "3zKAoFAIQbsc"
      }
    },
    {
      "cell_type": "code",
      "source": [
        "#Utilizando a def\n",
        "check_nulls(listening_history, \"listening_history\")\n",
        "check_nulls(music_info,\"music_info\")"
      ],
      "metadata": {
        "colab": {
          "base_uri": "https://localhost:8080/"
        },
        "id": "HFoQ4xTlNUCL",
        "outputId": "83a0583d-8449-471a-d287-57c196a9d87f"
      },
      "execution_count": null,
      "outputs": [
        {
          "output_type": "stream",
          "name": "stdout",
          "text": [
            "\n",
            "LISTENING_HISTORY -----------------------------------------------------------------------------------\n",
            "\n",
            "MUSIC_INFO ------------------------------------------------------------------------------------------\n",
            "tags: 1127\n",
            "genre: 28335\n"
          ]
        }
      ]
    },
    {
      "cell_type": "code",
      "source": [
        "#Podemos verificar que o historico de musicas nao apresenta nenhum valor nulo, por se tratar de uma tabela fato\n",
        "#Verificaremos posteriormente se todos os itens da Fato estao presentes nas tabelas dimensao\n",
        "#Por questao de boas praticas em modelagem de dados"
      ],
      "metadata": {
        "id": "GLA7JxdgNxT3"
      },
      "execution_count": null,
      "outputs": []
    },
    {
      "cell_type": "markdown",
      "source": [
        "# Verificando a existência de linhas duplicadas"
      ],
      "metadata": {
        "id": "5wMmo4DIQxWF"
      }
    },
    {
      "cell_type": "code",
      "source": [
        "def check_duplicates(dataframe, fields) -> None:\n",
        "    '''\n",
        "    Verifica e exibe uma amostra de 5 registros duplicados com base em um ou mais campos especificados.\n",
        "\n",
        "    :param dataframe: DataFrame\n",
        "        Dataframe a ser analisado.\n",
        "    :param fields: str ou list de str\n",
        "        Nome do campo ou lista de campos a serem usados como referência para identificar duplicatas.\n",
        "    '''\n",
        "    duplicate = dataframe.groupBy(fields) \\\n",
        "        .agg(count('*').alias('qty')) \\\n",
        "        .where(col('qty') > 1) \\\n",
        "        .orderBy(desc('qty'))   \n",
        "    duplicate.show(5, truncate=False)"
      ],
      "metadata": {
        "id": "ia68EKAwQ3Tj"
      },
      "execution_count": null,
      "outputs": []
    },
    {
      "cell_type": "code",
      "source": [
        "from pyspark.sql.functions import col, count, desc\n",
        "\n",
        "def check_duplicates(dataframe, fields) -> None:\n",
        "    '''\n",
        "    Verifica e exibe uma amostra de 5 registros duplicados com base em um ou mais campos especificados.\n",
        "\n",
        "    :param dataframe: DataFrame\n",
        "        Dataframe a ser analisado.\n",
        "    :param fields: str ou list de str\n",
        "        Nome do campo ou lista de campos a serem usados como referência para identificar duplicatas.\n",
        "    '''\n",
        "    duplicates = dataframe.groupBy(fields) \\\n",
        "        .agg(count('*').alias('qty')) \\\n",
        "        .where(col('qty') > 1) \\\n",
        "        .orderBy(desc('qty'))\n",
        "    return duplicates   \n",
        "    #duplicates.show(5, truncate=False)"
      ],
      "metadata": {
        "id": "AZh6DUtXRPWF"
      },
      "execution_count": null,
      "outputs": []
    },
    {
      "cell_type": "code",
      "source": [
        "#check_duplicates(music_info, 'spotify_preview_url')\n",
        "#for column in music_info.columns:\n",
        "#    check_duplicates(music_info, column)\n",
        "\n",
        "for column in music_info.columns:\n",
        "    duplicates = check_duplicates(music_info, column)\n",
        "    duplicates.show(5, truncate=False)"
      ],
      "metadata": {
        "colab": {
          "base_uri": "https://localhost:8080/"
        },
        "id": "44sOJM1sQ7vX",
        "outputId": "3a228d08-62ef-4826-a2d6-6c36b1bbaa51"
      },
      "execution_count": null,
      "outputs": [
        {
          "output_type": "stream",
          "name": "stdout",
          "text": [
            "+--------+---+\n",
            "|track_id|qty|\n",
            "+--------+---+\n",
            "+--------+---+\n",
            "\n",
            "+----+---+\n",
            "|name|qty|\n",
            "+----+---+\n",
            "+----+---+\n",
            "\n",
            "+------------------+---+\n",
            "|artist            |qty|\n",
            "+------------------+---+\n",
            "|The Rolling Stones|132|\n",
            "|Radiohead         |111|\n",
            "|Autechre          |105|\n",
            "|Tom Waits         |100|\n",
            "|Bob Dylan         |98 |\n",
            "+------------------+---+\n",
            "only showing top 5 rows\n",
            "\n",
            "+-----------------------------------------------------------------------------------------------------------+---+\n",
            "|spotify_preview_url                                                                                        |qty|\n",
            "+-----------------------------------------------------------------------------------------------------------+---+\n",
            "|https://p.scdn.co/mp3-preview/44672c7e5af267b8a565a2394eca9e77a094f48e?cid=774b29d4f13844c495f206cafdad9c86|2  |\n",
            "|https://p.scdn.co/mp3-preview/fd1b6adbed0cbdd3dce0eb4e39146a0857afec53?cid=774b29d4f13844c495f206cafdad9c86|2  |\n",
            "|https://p.scdn.co/mp3-preview/e09004cfd16b379c205d7741bff8f9868de2df7e?cid=774b29d4f13844c495f206cafdad9c86|2  |\n",
            "|https://p.scdn.co/mp3-preview/91c59e5384202ae508748c4d82546c48c71241ab?cid=774b29d4f13844c495f206cafdad9c86|2  |\n",
            "|https://p.scdn.co/mp3-preview/b30e9e16074655318e44e8d5803a414db472fd7b?cid=774b29d4f13844c495f206cafdad9c86|2  |\n",
            "+-----------------------------------------------------------------------------------------------------------+---+\n",
            "only showing top 5 rows\n",
            "\n",
            "+----------------------+---+\n",
            "|spotify_id            |qty|\n",
            "+----------------------+---+\n",
            "|1Ntzk4JoxcAsrWi73MoBjr|2  |\n",
            "|22Ty5gK6zbw0hRtGypTuX5|2  |\n",
            "|02VsIBmSkhc7uHNyPViZR3|2  |\n",
            "|0ndKJL8gA4zLl317M7vndn|2  |\n",
            "|0thdzbW0cRKCx12VbBRB6T|2  |\n",
            "+----------------------+---+\n",
            "only showing top 5 rows\n",
            "\n",
            "+------------+----+\n",
            "|tags        |qty |\n",
            "+------------+----+\n",
            "|null        |1127|\n",
            "|country     |506 |\n",
            "|reggae      |454 |\n",
            "|black_metal |442 |\n",
            "|rap, hip_hop|378 |\n",
            "+------------+----+\n",
            "only showing top 5 rows\n",
            "\n",
            "+----------+-----+\n",
            "|genre     |qty  |\n",
            "+----------+-----+\n",
            "|null      |28335|\n",
            "|Rock      |9965 |\n",
            "|Electronic|3710 |\n",
            "|Metal     |2516 |\n",
            "|Pop       |1145 |\n",
            "+----------+-----+\n",
            "only showing top 5 rows\n",
            "\n",
            "+----+----+\n",
            "|year|qty |\n",
            "+----+----+\n",
            "|2007|4221|\n",
            "|2008|3948|\n",
            "|2009|3827|\n",
            "|2006|3453|\n",
            "|2005|3086|\n",
            "+----+----+\n",
            "only showing top 5 rows\n",
            "\n",
            "+-----------+---+\n",
            "|duration_ms|qty|\n",
            "+-----------+---+\n",
            "|214666     |21 |\n",
            "|240000     |14 |\n",
            "|218200     |14 |\n",
            "|205800     |13 |\n",
            "|218666     |13 |\n",
            "+-----------+---+\n",
            "only showing top 5 rows\n",
            "\n",
            "+------------+---+\n",
            "|danceability|qty|\n",
            "+------------+---+\n",
            "|0.53        |136|\n",
            "|0.513       |132|\n",
            "|0.514       |130|\n",
            "|0.527       |129|\n",
            "|0.471       |126|\n",
            "+------------+---+\n",
            "only showing top 5 rows\n",
            "\n",
            "+------+---+\n",
            "|energy|qty|\n",
            "+------+---+\n",
            "|0.988 |196|\n",
            "|0.977 |179|\n",
            "|0.979 |177|\n",
            "|0.976 |176|\n",
            "|0.978 |173|\n",
            "+------+---+\n",
            "only showing top 5 rows\n",
            "\n",
            "+---+----+\n",
            "|key|qty |\n",
            "+---+----+\n",
            "|9  |5908|\n",
            "|7  |5871|\n",
            "|2  |5853|\n",
            "|0  |5744|\n",
            "|1  |4520|\n",
            "+---+----+\n",
            "only showing top 5 rows\n",
            "\n",
            "+--------+---+\n",
            "|loudness|qty|\n",
            "+--------+---+\n",
            "|-5.631  |16 |\n",
            "|-5.717  |16 |\n",
            "|-6.981  |14 |\n",
            "|-4.841  |14 |\n",
            "|-5.309  |14 |\n",
            "+--------+---+\n",
            "only showing top 5 rows\n",
            "\n",
            "+----+-----+\n",
            "|mode|qty  |\n",
            "+----+-----+\n",
            "|1   |31984|\n",
            "|0   |18699|\n",
            "+----+-----+\n",
            "\n",
            "+-----------+---+\n",
            "|speechiness|qty|\n",
            "+-----------+---+\n",
            "|0.0334     |170|\n",
            "|0.0335     |169|\n",
            "|0.0316     |168|\n",
            "|0.0299     |166|\n",
            "|0.0326     |165|\n",
            "+-----------+---+\n",
            "only showing top 5 rows\n",
            "\n",
            "+------------+---+\n",
            "|acousticness|qty|\n",
            "+------------+---+\n",
            "|0.108       |59 |\n",
            "|0.136       |58 |\n",
            "|0.109       |58 |\n",
            "|0.105       |57 |\n",
            "|0.103       |57 |\n",
            "+------------+---+\n",
            "only showing top 5 rows\n",
            "\n",
            "+----------------+----+\n",
            "|instrumentalness|qty |\n",
            "+----------------+----+\n",
            "|0.0             |8040|\n",
            "|0.878           |79  |\n",
            "|0.906           |72  |\n",
            "|0.877           |71  |\n",
            "|0.881           |62  |\n",
            "+----------------+----+\n",
            "only showing top 5 rows\n",
            "\n",
            "+--------+---+\n",
            "|liveness|qty|\n",
            "+--------+---+\n",
            "|0.111   |523|\n",
            "|0.112   |502|\n",
            "|0.108   |490|\n",
            "|0.11    |473|\n",
            "|0.107   |472|\n",
            "+--------+---+\n",
            "only showing top 5 rows\n",
            "\n",
            "+-------+---+\n",
            "|valence|qty|\n",
            "+-------+---+\n",
            "|0.961  |98 |\n",
            "|0.962  |98 |\n",
            "|0.192  |89 |\n",
            "|0.255  |89 |\n",
            "|0.233  |87 |\n",
            "+-------+---+\n",
            "only showing top 5 rows\n",
            "\n",
            "+-------+---+\n",
            "|tempo  |qty|\n",
            "+-------+---+\n",
            "|129.998|20 |\n",
            "|120.012|19 |\n",
            "|129.996|18 |\n",
            "|120.001|17 |\n",
            "|120.009|16 |\n",
            "+-------+---+\n",
            "only showing top 5 rows\n",
            "\n",
            "+--------------+-----+\n",
            "|time_signature|qty  |\n",
            "+--------------+-----+\n",
            "|4             |44989|\n",
            "|3             |4501 |\n",
            "|5             |732  |\n",
            "|1             |451  |\n",
            "|0             |10   |\n",
            "+--------------+-----+\n",
            "\n"
          ]
        }
      ]
    },
    {
      "cell_type": "markdown",
      "source": [
        "# Outra maneira de chegar ao mesmo resultado de colunas com valores duplicados"
      ],
      "metadata": {
        "id": "KpHgZ1RDzFHK"
      }
    },
    {
      "cell_type": "code",
      "source": [
        "#Another way to achieve the same result\n",
        "from pyspark.sql.functions import col, count, desc, row_number\n",
        "from pyspark.sql.window import Window\n",
        "\n",
        "def check_duplicates(dataframe):\n",
        "    '''\n",
        "    Verifica e exibe uma amostra de 5 registros duplicados para cada coluna com base em um DataFrame.\n",
        "\n",
        "    :param dataframe: DataFrame\n",
        "        DataFrame a ser analisado.\n",
        "    '''\n",
        "    columns = dataframe.columns\n",
        "\n",
        "    window_spec = Window.partitionBy().orderBy(desc('qty'))\n",
        "\n",
        "    for column in columns:\n",
        "        duplicates = dataframe.groupBy(column) \\\n",
        "            .agg(count('*').alias('qty')) \\\n",
        "            .where(col('qty') > 1) \\\n",
        "            .orderBy(desc('qty'))\n",
        "\n",
        "        duplicates = duplicates.withColumn('row_number', row_number().over(window_spec))\n",
        "        duplicates = duplicates.filter(col('row_number') <= 5)\n",
        "\n",
        "        print(f\"Column: {column}\")\n",
        "        duplicates.show(truncate=False)\n",
        "        print('\\n')\n",
        "\n",
        "# Usage example:\n",
        "check_duplicates(music_info)"
      ],
      "metadata": {
        "colab": {
          "base_uri": "https://localhost:8080/"
        },
        "id": "F34OOGiJxAPk",
        "outputId": "2387f073-225b-41a7-9b88-ea598a580fd5"
      },
      "execution_count": null,
      "outputs": [
        {
          "output_type": "stream",
          "name": "stdout",
          "text": [
            "Column: track_id\n",
            "+--------+---+----------+\n",
            "|track_id|qty|row_number|\n",
            "+--------+---+----------+\n",
            "+--------+---+----------+\n",
            "\n",
            "\n",
            "\n",
            "Column: name\n",
            "+----+---+----------+\n",
            "|name|qty|row_number|\n",
            "+----+---+----------+\n",
            "+----+---+----------+\n",
            "\n",
            "\n",
            "\n",
            "Column: artist\n",
            "+------------------+---+----------+\n",
            "|artist            |qty|row_number|\n",
            "+------------------+---+----------+\n",
            "|The Rolling Stones|132|1         |\n",
            "|Radiohead         |111|2         |\n",
            "|Autechre          |105|3         |\n",
            "|Tom Waits         |100|4         |\n",
            "|Bob Dylan         |98 |5         |\n",
            "+------------------+---+----------+\n",
            "\n",
            "\n",
            "\n",
            "Column: spotify_preview_url\n",
            "+-----------------------------------------------------------------------------------------------------------+---+----------+\n",
            "|spotify_preview_url                                                                                        |qty|row_number|\n",
            "+-----------------------------------------------------------------------------------------------------------+---+----------+\n",
            "|https://p.scdn.co/mp3-preview/8a5e4f8dce6b1a957e235185a4677841fcaafe90?cid=774b29d4f13844c495f206cafdad9c86|2  |1         |\n",
            "|https://p.scdn.co/mp3-preview/5fcdcfe7ef20abd006bba666b4a7dff01dd5ec21?cid=774b29d4f13844c495f206cafdad9c86|2  |2         |\n",
            "|https://p.scdn.co/mp3-preview/9d4b70e65834b7f7f78e42d1cfc070c827ab0951?cid=774b29d4f13844c495f206cafdad9c86|2  |3         |\n",
            "|https://p.scdn.co/mp3-preview/c3b196d1d1278f1886d99fcd9399564e425cf1f6?cid=774b29d4f13844c495f206cafdad9c86|2  |4         |\n",
            "|https://p.scdn.co/mp3-preview/88feb75a6f4317fda9e5cdda10e936b9eafbac46?cid=774b29d4f13844c495f206cafdad9c86|2  |5         |\n",
            "+-----------------------------------------------------------------------------------------------------------+---+----------+\n",
            "\n",
            "\n",
            "\n",
            "Column: spotify_id\n",
            "+----------------------+---+----------+\n",
            "|spotify_id            |qty|row_number|\n",
            "+----------------------+---+----------+\n",
            "|1Ntzk4JoxcAsrWi73MoBjr|2  |1         |\n",
            "|22Ty5gK6zbw0hRtGypTuX5|2  |2         |\n",
            "|02VsIBmSkhc7uHNyPViZR3|2  |3         |\n",
            "|0ndKJL8gA4zLl317M7vndn|2  |4         |\n",
            "|0thdzbW0cRKCx12VbBRB6T|2  |5         |\n",
            "+----------------------+---+----------+\n",
            "\n",
            "\n",
            "\n",
            "Column: tags\n",
            "+------------+----+----------+\n",
            "|tags        |qty |row_number|\n",
            "+------------+----+----------+\n",
            "|null        |1127|1         |\n",
            "|country     |506 |2         |\n",
            "|reggae      |454 |3         |\n",
            "|black_metal |442 |4         |\n",
            "|rap, hip_hop|378 |5         |\n",
            "+------------+----+----------+\n",
            "\n",
            "\n",
            "\n",
            "Column: genre\n",
            "+----------+-----+----------+\n",
            "|genre     |qty  |row_number|\n",
            "+----------+-----+----------+\n",
            "|null      |28335|1         |\n",
            "|Rock      |9965 |2         |\n",
            "|Electronic|3710 |3         |\n",
            "|Metal     |2516 |4         |\n",
            "|Pop       |1145 |5         |\n",
            "+----------+-----+----------+\n",
            "\n",
            "\n",
            "\n",
            "Column: year\n",
            "+----+----+----------+\n",
            "|year|qty |row_number|\n",
            "+----+----+----------+\n",
            "|2007|4221|1         |\n",
            "|2008|3948|2         |\n",
            "|2009|3827|3         |\n",
            "|2006|3453|4         |\n",
            "|2005|3086|5         |\n",
            "+----+----+----------+\n",
            "\n",
            "\n",
            "\n",
            "Column: duration_ms\n",
            "+-----------+---+----------+\n",
            "|duration_ms|qty|row_number|\n",
            "+-----------+---+----------+\n",
            "|214666     |21 |1         |\n",
            "|240000     |14 |2         |\n",
            "|218200     |14 |3         |\n",
            "|205800     |13 |4         |\n",
            "|218666     |13 |5         |\n",
            "+-----------+---+----------+\n",
            "\n",
            "\n",
            "\n",
            "Column: danceability\n",
            "+------------+---+----------+\n",
            "|danceability|qty|row_number|\n",
            "+------------+---+----------+\n",
            "|0.53        |136|1         |\n",
            "|0.513       |132|2         |\n",
            "|0.514       |130|3         |\n",
            "|0.527       |129|4         |\n",
            "|0.471       |126|5         |\n",
            "+------------+---+----------+\n",
            "\n",
            "\n",
            "\n",
            "Column: energy\n",
            "+------+---+----------+\n",
            "|energy|qty|row_number|\n",
            "+------+---+----------+\n",
            "|0.988 |196|1         |\n",
            "|0.977 |179|2         |\n",
            "|0.979 |177|3         |\n",
            "|0.976 |176|4         |\n",
            "|0.978 |173|5         |\n",
            "+------+---+----------+\n",
            "\n",
            "\n",
            "\n",
            "Column: key\n",
            "+---+----+----------+\n",
            "|key|qty |row_number|\n",
            "+---+----+----------+\n",
            "|9  |5908|1         |\n",
            "|7  |5871|2         |\n",
            "|2  |5853|3         |\n",
            "|0  |5744|4         |\n",
            "|1  |4520|5         |\n",
            "+---+----+----------+\n",
            "\n",
            "\n",
            "\n",
            "Column: loudness\n",
            "+--------+---+----------+\n",
            "|loudness|qty|row_number|\n",
            "+--------+---+----------+\n",
            "|-5.717  |16 |1         |\n",
            "|-5.631  |16 |2         |\n",
            "|-4.841  |14 |3         |\n",
            "|-5.309  |14 |4         |\n",
            "|-6.583  |14 |5         |\n",
            "+--------+---+----------+\n",
            "\n",
            "\n",
            "\n",
            "Column: mode\n",
            "+----+-----+----------+\n",
            "|mode|qty  |row_number|\n",
            "+----+-----+----------+\n",
            "|1   |31984|1         |\n",
            "|0   |18699|2         |\n",
            "+----+-----+----------+\n",
            "\n",
            "\n",
            "\n",
            "Column: speechiness\n",
            "+-----------+---+----------+\n",
            "|speechiness|qty|row_number|\n",
            "+-----------+---+----------+\n",
            "|0.0334     |170|1         |\n",
            "|0.0335     |169|2         |\n",
            "|0.0316     |168|3         |\n",
            "|0.0299     |166|4         |\n",
            "|0.0326     |165|5         |\n",
            "+-----------+---+----------+\n",
            "\n",
            "\n",
            "\n",
            "Column: acousticness\n",
            "+------------+---+----------+\n",
            "|acousticness|qty|row_number|\n",
            "+------------+---+----------+\n",
            "|0.108       |59 |1         |\n",
            "|0.136       |58 |2         |\n",
            "|0.109       |58 |3         |\n",
            "|0.105       |57 |4         |\n",
            "|0.103       |57 |5         |\n",
            "+------------+---+----------+\n",
            "\n",
            "\n",
            "\n",
            "Column: instrumentalness\n",
            "+----------------+----+----------+\n",
            "|instrumentalness|qty |row_number|\n",
            "+----------------+----+----------+\n",
            "|0.0             |8040|1         |\n",
            "|0.878           |79  |2         |\n",
            "|0.906           |72  |3         |\n",
            "|0.877           |71  |4         |\n",
            "|0.881           |62  |5         |\n",
            "+----------------+----+----------+\n",
            "\n",
            "\n",
            "\n",
            "Column: liveness\n",
            "+--------+---+----------+\n",
            "|liveness|qty|row_number|\n",
            "+--------+---+----------+\n",
            "|0.111   |523|1         |\n",
            "|0.112   |502|2         |\n",
            "|0.108   |490|3         |\n",
            "|0.11    |473|4         |\n",
            "|0.107   |472|5         |\n",
            "+--------+---+----------+\n",
            "\n",
            "\n",
            "\n",
            "Column: valence\n",
            "+-------+---+----------+\n",
            "|valence|qty|row_number|\n",
            "+-------+---+----------+\n",
            "|0.962  |98 |1         |\n",
            "|0.961  |98 |2         |\n",
            "|0.192  |89 |3         |\n",
            "|0.255  |89 |4         |\n",
            "|0.233  |87 |5         |\n",
            "+-------+---+----------+\n",
            "\n",
            "\n",
            "\n",
            "Column: tempo\n",
            "+-------+---+----------+\n",
            "|tempo  |qty|row_number|\n",
            "+-------+---+----------+\n",
            "|129.998|20 |1         |\n",
            "|120.012|19 |2         |\n",
            "|129.996|18 |3         |\n",
            "|120.001|17 |4         |\n",
            "|120.009|16 |5         |\n",
            "+-------+---+----------+\n",
            "\n",
            "\n",
            "\n",
            "Column: time_signature\n",
            "+--------------+-----+----------+\n",
            "|time_signature|qty  |row_number|\n",
            "+--------------+-----+----------+\n",
            "|4             |44989|1         |\n",
            "|3             |4501 |2         |\n",
            "|5             |732  |3         |\n",
            "|1             |451  |4         |\n",
            "|0             |10   |5         |\n",
            "+--------------+-----+----------+\n",
            "\n",
            "\n",
            "\n"
          ]
        }
      ]
    },
    {
      "cell_type": "markdown",
      "source": [
        "# Vamos verificar o motivo de algumas linhas estarem duplicadas na coluna 'spotify_id'\n"
      ],
      "metadata": {
        "id": "uW_az2Fq6qmz"
      }
    },
    {
      "cell_type": "code",
      "source": [
        "# Exemplo\n",
        "music_info_filtro = music_info.filter(\"spotify_id = '1Ntzk4JoxcAsrWi73MoBjr'\")"
      ],
      "metadata": {
        "id": "SC0j5v-261ZS"
      },
      "execution_count": null,
      "outputs": []
    },
    {
      "cell_type": "code",
      "source": [
        "# Note: O nome da musica na coluna 'name' foi digitado incorretamente\n",
        "music_info_filtro.show()"
      ],
      "metadata": {
        "colab": {
          "base_uri": "https://localhost:8080/"
        },
        "id": "oMCFeswd64hA",
        "outputId": "3ac0ac5d-9a78-40af-871a-dc7ba1f91a3e"
      },
      "execution_count": null,
      "outputs": [
        {
          "output_type": "stream",
          "name": "stdout",
          "text": [
            "+------------------+---------+-------------------+--------------------+--------------------+--------------------+-----+----+-----------+------------+------+---+--------+----+-----------+------------+----------------+--------+-------+------+--------------+\n",
            "|          track_id|     name|             artist| spotify_preview_url|          spotify_id|                tags|genre|year|duration_ms|danceability|energy|key|loudness|mode|speechiness|acousticness|instrumentalness|liveness|valence| tempo|time_signature|\n",
            "+------------------+---------+-------------------+--------------------+--------------------+--------------------+-----+----+-----------+------------+------+---+--------+----+-----------+------------+----------------+--------+-------+------+--------------+\n",
            "|TRXUYQW128F42370DB|hHallmark|Broken Social Scene|https://p.scdn.co...|1Ntzk4JoxcAsrWi73...|alternative, indi...| Rock|2004|     233706|       0.523| 0.583|  0| -10.694|   1|     0.0434|      0.0879|           0.109|   0.144|  0.172|119.98|             3|\n",
            "|TRCUHWL128F4249F1A| Hallmark|Broken Social Scene|https://p.scdn.co...|1Ntzk4JoxcAsrWi73...|indie, alternativ...| null|2004|     233706|       0.523| 0.583|  0| -10.694|   1|     0.0434|      0.0879|           0.109|   0.144|  0.172|119.98|             3|\n",
            "+------------------+---------+-------------------+--------------------+--------------------+--------------------+-----+----+-----------+------------+------+---+--------+----+-----------+------------+----------------+--------+-------+------+--------------+\n",
            "\n"
          ]
        }
      ]
    },
    {
      "cell_type": "markdown",
      "source": [
        "# Verificar o total de linhas com duplicacao da coluna 'spotify_id'"
      ],
      "metadata": {
        "id": "z_n7X8kN7MIy"
      }
    },
    {
      "cell_type": "code",
      "source": [
        "from pyspark.sql.functions import count\n",
        "\n",
        "# Group the DataFrame by 'spotify_id' and count the occurrences\n",
        "duplicate_counts = music_info.groupBy('spotify_id').agg(count('*').alias('count'))\n",
        "\n",
        "# Filter the DataFrame to keep only rows where count > 1\n",
        "duplicate_rows = music_info.join(duplicate_counts, on='spotify_id').filter('count > 1')\n",
        "\n",
        "# Show the duplicate rows DataFrame\n",
        "duplicate_rows.sort('name').show(20, truncate=False)\n",
        "duplicate_rows.select('name').withColumn('eita', duplicate_rows.name).show(20)\n",
        "#duplicate_rows.withColumn('eita', duplicate_rows.name).show(20)"
      ],
      "metadata": {
        "colab": {
          "base_uri": "https://localhost:8080/"
        },
        "id": "ah7yO4pD7FQ3",
        "outputId": "1739946b-eec9-4d1b-9071-bd11a40ee6ac"
      },
      "execution_count": null,
      "outputs": [
        {
          "output_type": "stream",
          "name": "stdout",
          "text": [
            "+----------------------+------------------+--------------------------+-------------------+-----------------------------------------------------------------------------------------------------------+-------------------------------------------------------------------------------------------------------------------------------------------------------------+-----+----+-----------+------------+------+---+--------+----+-----------+------------+----------------+--------+-------+-------+--------------+-----+\n",
            "|spotify_id            |track_id          |name                      |artist             |spotify_preview_url                                                                                        |tags                                                                                                                                                         |genre|year|duration_ms|danceability|energy|key|loudness|mode|speechiness|acousticness|instrumentalness|liveness|valence|tempo  |time_signature|count|\n",
            "+----------------------+------------------+--------------------------+-------------------+-----------------------------------------------------------------------------------------------------------+-------------------------------------------------------------------------------------------------------------------------------------------------------------+-----+----+-----------+------------+------+---+--------+----+-----------+------------+----------------+--------+-------+-------+--------------+-----+\n",
            "|5vYA1mW9g2Coh1HUFUSmlb|TRGGALK12903CB68E5|3 AM                      |Matchbox Twenty    |https://p.scdn.co/mp3-preview/cb68c9ae8925bb3fc45544e5f21de17df18b957d?cid=774b29d4f13844c495f206cafdad9c86|rock, alternative, pop, alternative_rock, 90s, male_vocalists                                                                                                |null |1996|225946     |0.521       |0.673 |8  |-8.685  |1   |0.0284     |0.00573     |0.0             |0.12    |0.543  |108.031|4             |2    |\n",
            "|5vYA1mW9g2Coh1HUFUSmlb|TRLOXMF128F934BF04|3AM                       |Matchbox Twenty    |https://p.scdn.co/mp3-preview/cb68c9ae8925bb3fc45544e5f21de17df18b957d?cid=774b29d4f13844c495f206cafdad9c86|rock, alternative, 90s, piano, american, pop_rock                                                                                                            |null |1996|225946     |0.521       |0.673 |8  |-8.685  |1   |0.0284     |0.00573     |0.0             |0.12    |0.543  |108.031|4             |2    |\n",
            "|00otCiz9kUb3Vg7LPKNCZG|TRJNHPN128F92EF139|Adagio For Strings        |Samuel Barber      |https://p.scdn.co/mp3-preview/fd1b6adbed0cbdd3dce0eb4e39146a0857afec53?cid=774b29d4f13844c495f206cafdad9c86|instrumental, classical, soundtrack, beautiful                                                                                                               |null |2014|431412     |0.14        |0.0947|10 |-18.599 |0   |0.0458     |0.978       |0.478           |0.0735  |0.0365 |84.56  |4             |2    |\n",
            "|00otCiz9kUb3Vg7LPKNCZG|TRLSRQD128F426CFF8|Adagio for Strings, Op. 11|Samuel Barber      |https://p.scdn.co/mp3-preview/fd1b6adbed0cbdd3dce0eb4e39146a0857afec53?cid=774b29d4f13844c495f206cafdad9c86|classical                                                                                                                                                    |null |2014|431412     |0.14        |0.0947|10 |-18.599 |0   |0.0458     |0.978       |0.478           |0.0735  |0.0365 |84.56  |4             |2    |\n",
            "|22Ty5gK6zbw0hRtGypTuX5|TRVENST12903D13BBB|Do You Love Me Now        |The Breeders       |https://p.scdn.co/mp3-preview/6a6a7db7aca75f89d1676a80b9a8d26f174749e3?cid=774b29d4f13844c495f206cafdad9c86|rock, alternative, indie, female_vocalists, alternative_rock, 90s                                                                                            |null |1993|181800     |0.486       |0.233 |2  |-11.535 |1   |0.0365     |0.0319      |0.107           |0.102   |0.32   |134.187|4             |2    |\n",
            "|22Ty5gK6zbw0hRtGypTuX5|TRHNAWF128F423EAE4|Do You Love Me Now?       |The Breeders       |https://p.scdn.co/mp3-preview/6a6a7db7aca75f89d1676a80b9a8d26f174749e3?cid=774b29d4f13844c495f206cafdad9c86|rock, alternative, indie, female_vocalists, alternative_rock, 90s, new_wave, love, grunge                                                                    |Rock |1993|181800     |0.486       |0.233 |2  |-11.535 |1   |0.0365     |0.0319      |0.107           |0.102   |0.32   |134.187|4             |2    |\n",
            "|3MUviQJP5DSYI3Li4EbYTQ|TRRLAHF12903CAFEA1|Greatest Hit              |Annie              |https://p.scdn.co/mp3-preview/82e186b1ddf2b2a51c244effb7691e00bef9c1f2?cid=774b29d4f13844c495f206cafdad9c86|electronic, pop, dance, house                                                                                                                                |null |2004|220293     |0.786       |0.854 |10 |-3.249  |0   |0.138      |0.00261     |0.000171        |0.155   |0.547  |127.128|4             |2    |\n",
            "|1Ntzk4JoxcAsrWi73MoBjr|TRCUHWL128F4249F1A|Hallmark                  |Broken Social Scene|https://p.scdn.co/mp3-preview/68604cdb33249a23ac2e8a5d82cda296e7524ccb?cid=774b29d4f13844c495f206cafdad9c86|indie, alternative_rock, instrumental, post_rock                                                                                                             |null |2004|233706     |0.523       |0.583 |0  |-10.694 |1   |0.0434     |0.0879      |0.109           |0.144   |0.172  |119.98 |3             |2    |\n",
            "|02VsIBmSkhc7uHNyPViZR3|TRXHJQY128F42B5094|How Do U Want It          |2Pac               |https://p.scdn.co/mp3-preview/59f243514e63d634d0513e28f159f201ff3f0984?cid=774b29d4f13844c495f206cafdad9c86|rap, hip_hop, american                                                                                                                                       |Rap  |2011|289000     |0.832       |0.785 |8  |-2.859  |1   |0.093      |0.111       |6.86e-06        |0.0623  |0.812  |92.468 |4             |2    |\n",
            "|02VsIBmSkhc7uHNyPViZR3|TRLOZQZ128F92E8A3F|How Do You Want It        |2Pac               |https://p.scdn.co/mp3-preview/59f243514e63d634d0513e28f159f201ff3f0984?cid=774b29d4f13844c495f206cafdad9c86|rap, hip_hop                                                                                                                                                 |null |2011|289000     |0.832       |0.785 |8  |-2.859  |1   |0.093      |0.111       |6.86e-06        |0.0623  |0.812  |92.468 |4             |2    |\n",
            "|09jsAIZF9ThihIzdrw4KAS|TRZBNQU128F148C04F|Je Pense A Toi            |Amadou & Mariam    |https://p.scdn.co/mp3-preview/adcdf1077f16f2c71c5c7a73ee4c99db207f8602?cid=774b29d4f13844c495f206cafdad9c86|null                                                                                                                                                         |null |2005|316880     |0.68        |0.399 |11 |-11.585 |0   |0.0279     |0.749       |0.00161         |0.158   |0.828  |106.349|4             |2    |\n",
            "|09jsAIZF9ThihIzdrw4KAS|TRGCZFO128F92EE221|Je pense à toi            |Amadou & Mariam    |https://p.scdn.co/mp3-preview/adcdf1077f16f2c71c5c7a73ee4c99db207f8602?cid=774b29d4f13844c495f206cafdad9c86|alternative, beautiful, french                                                                                                                               |null |2005|316880     |0.68        |0.399 |11 |-11.585 |0   |0.0279     |0.749       |0.00161         |0.158   |0.828  |106.349|4             |2    |\n",
            "|3MUviQJP5DSYI3Li4EbYTQ|TRCEFVZ128F4283203|The Greatest Hit          |Annie              |https://p.scdn.co/mp3-preview/82e186b1ddf2b2a51c244effb7691e00bef9c1f2?cid=774b29d4f13844c495f206cafdad9c86|electronic, pop, female_vocalists, dance, electro                                                                                                            |null |2004|220293     |0.786       |0.854 |10 |-3.249  |0   |0.138      |0.00261     |0.000171        |0.155   |0.547  |127.128|4             |2    |\n",
            "|0thdzbW0cRKCx12VbBRB6T|TRRZUGN128F42A1EEE|There There               |Radiohead          |https://p.scdn.co/mp3-preview/9e96ffdf29fceec324b97d331915f2390536ad7a?cid=774b29d4f13844c495f206cafdad9c86|rock, electronic, alternative, indie, alternative_rock, experimental, indie_rock, british, 00s, britpop                                                      |Rock |2008|323600     |0.614       |0.677 |9  |-8.317  |0   |0.0323     |0.0193      |0.518           |0.108   |0.717  |126.477|4             |2    |\n",
            "|0thdzbW0cRKCx12VbBRB6T|TRXFHCL128F92E0989|There, There              |Radiohead          |https://p.scdn.co/mp3-preview/9e96ffdf29fceec324b97d331915f2390536ad7a?cid=774b29d4f13844c495f206cafdad9c86|rock, electronic, alternative, indie, alternative_rock, classic_rock, experimental, indie_rock, progressive_rock, british, downtempo, male_vocalists, britpop|null |2008|323600     |0.614       |0.677 |9  |-8.317  |0   |0.0323     |0.0193      |0.518           |0.108   |0.717  |126.477|4             |2    |\n",
            "|0ndKJL8gA4zLl317M7vndn|TRJQFIT128E0781CED|Too Much Too Young        |The Specials       |https://p.scdn.co/mp3-preview/fc256eb2d041b8454f2d63346a3ca23e314c599a?cid=774b29d4f13844c495f206cafdad9c86|punk, 80s, new_wave, reggae, ska                                                                                                                             |null |2012|116160     |0.597       |0.839 |2  |-9.052  |1   |0.0471     |0.447       |0.000134        |0.31    |0.965  |156.058|4             |2    |\n",
            "|0ndKJL8gA4zLl317M7vndn|TRDTUTO128F422F138|Too Much Too Young (Live) |The Specials       |https://p.scdn.co/mp3-preview/fc256eb2d041b8454f2d63346a3ca23e314c599a?cid=774b29d4f13844c495f206cafdad9c86|ska                                                                                                                                                          |null |2012|116160     |0.597       |0.839 |2  |-9.052  |1   |0.0471     |0.447       |0.000134        |0.31    |0.965  |156.058|4             |2    |\n",
            "|1Ntzk4JoxcAsrWi73MoBjr|TRXUYQW128F42370DB|hHallmark                 |Broken Social Scene|https://p.scdn.co/mp3-preview/68604cdb33249a23ac2e8a5d82cda296e7524ccb?cid=774b29d4f13844c495f206cafdad9c86|alternative, indie, ambient, soundtrack, psychedelic, post_rock                                                                                              |Rock |2004|233706     |0.523       |0.583 |0  |-10.694 |1   |0.0434     |0.0879      |0.109           |0.144   |0.172  |119.98 |3             |2    |\n",
            "+----------------------+------------------+--------------------------+-------------------+-----------------------------------------------------------------------------------------------------------+-------------------------------------------------------------------------------------------------------------------------------------------------------------+-----+----+-----------+------------+------+---+--------+----+-----------+------------+----------------+--------+-------+-------+--------------+-----+\n",
            "\n",
            "+--------------------+--------------------+\n",
            "|                name|                eita|\n",
            "+--------------------+--------------------+\n",
            "|            Hallmark|            Hallmark|\n",
            "|           hHallmark|           hHallmark|\n",
            "|  Do You Love Me Now|  Do You Love Me Now|\n",
            "| Do You Love Me Now?| Do You Love Me Now?|\n",
            "|    How Do U Want It|    How Do U Want It|\n",
            "|  How Do You Want It|  How Do You Want It|\n",
            "|Too Much Too Youn...|Too Much Too Youn...|\n",
            "|  Too Much Too Young|  Too Much Too Young|\n",
            "|        There, There|        There, There|\n",
            "|         There There|         There There|\n",
            "|                 3AM|                 3AM|\n",
            "|                3 AM|                3 AM|\n",
            "|    The Greatest Hit|    The Greatest Hit|\n",
            "|        Greatest Hit|        Greatest Hit|\n",
            "|Adagio for String...|Adagio for String...|\n",
            "|  Adagio For Strings|  Adagio For Strings|\n",
            "|      Je Pense A Toi|      Je Pense A Toi|\n",
            "|      Je pense à toi|      Je pense à toi|\n",
            "+--------------------+--------------------+\n",
            "\n"
          ]
        }
      ]
    },
    {
      "cell_type": "code",
      "source": [],
      "metadata": {
        "id": "lgwek-vr7UXF"
      },
      "execution_count": null,
      "outputs": []
    },
    {
      "cell_type": "code",
      "source": [],
      "metadata": {
        "id": "ZfQIofhc7UJL"
      },
      "execution_count": null,
      "outputs": []
    },
    {
      "cell_type": "markdown",
      "source": [
        "# Gerar um dataframe somente com linhas duplicadas"
      ],
      "metadata": {
        "id": "V9p_4hc96cIx"
      }
    },
    {
      "cell_type": "code",
      "source": [],
      "metadata": {
        "id": "xJKqaBJH6imS"
      },
      "execution_count": null,
      "outputs": []
    },
    {
      "cell_type": "markdown",
      "source": [
        "# Exemplo LEFT OUTER JOIN"
      ],
      "metadata": {
        "id": "0npkQpexPUEn"
      }
    },
    {
      "cell_type": "code",
      "source": [
        "listening_history.count()"
      ],
      "metadata": {
        "id": "YoRFdT4yDYnK",
        "colab": {
          "base_uri": "https://localhost:8080/"
        },
        "outputId": "f5ff3a09-df20-483a-93f2-bf92a69ebcc6"
      },
      "execution_count": null,
      "outputs": [
        {
          "output_type": "execute_result",
          "data": {
            "text/plain": [
              "9711301"
            ]
          },
          "metadata": {},
          "execution_count": 114
        }
      ]
    },
    {
      "cell_type": "code",
      "source": [
        "new_df = listening_history.join(music_info.select(\"track_id\", \"name\", \"artist\"), on=[\"track_id\"], how=\"left\")"
      ],
      "metadata": {
        "id": "Fe7U_jPyGdhs"
      },
      "execution_count": null,
      "outputs": []
    },
    {
      "cell_type": "code",
      "source": [
        "new_df.show(30)"
      ],
      "metadata": {
        "id": "cuWxa-oMJiZC",
        "colab": {
          "base_uri": "https://localhost:8080/"
        },
        "outputId": "45f709d2-60fd-4c72-fbd9-8a59fe240352"
      },
      "execution_count": null,
      "outputs": [
        {
          "output_type": "stream",
          "name": "stdout",
          "text": [
            "+------------------+--------------------+---------+--------------------+--------------------+\n",
            "|          track_id|             user_id|playcount|                name|              artist|\n",
            "+------------------+--------------------+---------+--------------------+--------------------+\n",
            "|TRIRLYL128F42539D1|b80344d063b5ccb32...|        1|Nothing From Nothing|       Billy Preston|\n",
            "|TRFUPBA128F934F7E1|b80344d063b5ccb32...|        1|       Paper Gangsta|           Lady Gaga|\n",
            "|TRLQPQJ128F42AA94F|b80344d063b5ccb32...|        1|                 Soy|         Gipsy Kings|\n",
            "|TRTUCUY128F92E1D24|b80344d063b5ccb32...|        1|      Stacked Actors|        Foo Fighters|\n",
            "|TRHDDQG12903CB53EE|b80344d063b5ccb32...|        1|Heaven's Gonna Bu...|Thievery Corporation|\n",
            "|TRGRDEC128F423C07D|b80344d063b5ccb32...|        1|      Let It Be Sung|        Jack Johnson|\n",
            "|TRRYCBO128F932A2C7|b80344d063b5ccb32...|        1|          Love Shack|          The B-52's|\n",
            "|TRUTULC128F4293712|b80344d063b5ccb32...|        1|      Gimme Stitches|        Foo Fighters|\n",
            "|TRAAHSY128F147BB5C|b80344d063b5ccb32...|        2|      Speed of Sound|            Coldplay|\n",
            "|TRDLMWP128F426BF6C|b80344d063b5ccb32...|        1|         Ragged Wood|         Fleet Foxes|\n",
            "|TRMSZXT128F92F7816|b80344d063b5ccb32...|        1|Love Song For No One|          John Mayer|\n",
            "|TRVODUZ128F934D094|b80344d063b5ccb32...|        1|All That We Perceive|Thievery Corporation|\n",
            "|TRLXSNR128F429361D|b80344d063b5ccb32...|        1|           Generator|        Foo Fighters|\n",
            "|TRPUGUW128F426BF6F|b80344d063b5ccb32...|        1| He Doesn't Know Why|         Fleet Foxes|\n",
            "|TRAUCNU128F42671EB|b80344d063b5ccb32...|        1|   Tu Quieres Volver|     Sarah Brightman|\n",
            "|TRVVWSW128F4292931|b80344d063b5ccb32...|        1|               Trani|       Kings of Leon|\n",
            "|TRADVZX128F426BF79|b80344d063b5ccb32...|        1|           Sun Giant|         Fleet Foxes|\n",
            "|TRDCZUX128F4263A74|b80344d063b5ccb32...|        1|           City Love|          John Mayer|\n",
            "|TRUYKTB128F1459197|b80344d063b5ccb32...|        1|              Obiero|          Ayub Ogada|\n",
            "|TRQLOHS128F42435AE|b80344d063b5ccb32...|        1|     Holes To Heaven|        Jack Johnson|\n",
            "|TRCTFBL128F42934F3|85c1f87fea955d09b...|        2|           High Step|        Sage Francis|\n",
            "|TRPGYLT128F428AD02|85c1f87fea955d09b...|        3|            Sea Lion|        Sage Francis|\n",
            "|TRAEGXU128F9304D31|bd4c6e843f00bd476...|        1|         Camera Talk|       Local Natives|\n",
            "|TRFNNFP128F146CB4B|bd4c6e843f00bd476...|        1|           Auto Rock|              Mogwai|\n",
            "|TRWCEKE128F93191BE|bd4c6e843f00bd476...|        2| Who Knows Who Cares|       Local Natives|\n",
            "|TRADEOV128F9330E3B|bd4c6e843f00bd476...|        1|Happiness: We're ...|This Will Destroy...|\n",
            "|TRTQVKS128F92EF9BE|bd4c6e843f00bd476...|        1|Swimming In The F...|         Passion Pit|\n",
            "|TRSGIYX128F149F01F|969cc6fb74e076a68...|        1|          Medicating|      Boys Night Out|\n",
            "|TRXWAZC128F9314B3E|969cc6fb74e076a68...|        1|  Heartbreak Warfare|          John Mayer|\n",
            "|TRDOYFZ128F426E715|969cc6fb74e076a68...|        1|       Saturday Nite|  Earth, Wind & Fire|\n",
            "+------------------+--------------------+---------+--------------------+--------------------+\n",
            "only showing top 30 rows\n",
            "\n"
          ]
        }
      ]
    },
    {
      "cell_type": "code",
      "source": [],
      "metadata": {
        "id": "2Y6dcmq5zYsl"
      },
      "execution_count": null,
      "outputs": []
    },
    {
      "cell_type": "code",
      "source": [],
      "metadata": {
        "colab": {
          "base_uri": "https://localhost:8080/"
        },
        "id": "v0oC2C1Q0Pys",
        "outputId": "d09f6512-4a8a-478d-ee5e-11f8f5e04c8a"
      },
      "execution_count": null,
      "outputs": [
        {
          "output_type": "stream",
          "name": "stdout",
          "text": [
            "+------------------+---------+-------------------+--------------------+--------------------+--------------------+-----+----+-----------+------------+------+---+--------+----+-----------+------------+----------------+--------+-------+------+--------------+\n",
            "|          track_id|     name|             artist| spotify_preview_url|          spotify_id|                tags|genre|year|duration_ms|danceability|energy|key|loudness|mode|speechiness|acousticness|instrumentalness|liveness|valence| tempo|time_signature|\n",
            "+------------------+---------+-------------------+--------------------+--------------------+--------------------+-----+----+-----------+------------+------+---+--------+----+-----------+------------+----------------+--------+-------+------+--------------+\n",
            "|TRXUYQW128F42370DB|hHallmark|Broken Social Scene|https://p.scdn.co...|1Ntzk4JoxcAsrWi73...|alternative, indi...| Rock|2004|     233706|       0.523| 0.583|  0| -10.694|   1|     0.0434|      0.0879|           0.109|   0.144|  0.172|119.98|             3|\n",
            "|TRCUHWL128F4249F1A| Hallmark|Broken Social Scene|https://p.scdn.co...|1Ntzk4JoxcAsrWi73...|indie, alternativ...| null|2004|     233706|       0.523| 0.583|  0| -10.694|   1|     0.0434|      0.0879|           0.109|   0.144|  0.172|119.98|             3|\n",
            "+------------------+---------+-------------------+--------------------+--------------------+--------------------+-----+----+-----------+------------+------+---+--------+----+-----------+------------+----------------+--------+-------+------+--------------+\n",
            "\n"
          ]
        }
      ]
    },
    {
      "cell_type": "code",
      "source": [],
      "metadata": {
        "colab": {
          "base_uri": "https://localhost:8080/"
        },
        "id": "5wVZA96c5Z5b",
        "outputId": "f7c2f69a-23e7-4fa2-c9a5-d2f5ee501d20"
      },
      "execution_count": null,
      "outputs": [
        {
          "output_type": "execute_result",
          "data": {
            "text/plain": [
              "18"
            ]
          },
          "metadata": {},
          "execution_count": 148
        }
      ]
    },
    {
      "cell_type": "code",
      "source": [],
      "metadata": {
        "id": "RNBN3-Wf5j3p"
      },
      "execution_count": null,
      "outputs": []
    }
  ]
}